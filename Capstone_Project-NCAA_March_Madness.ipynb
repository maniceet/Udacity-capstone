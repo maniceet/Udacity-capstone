{
 "cells": [
  {
   "cell_type": "code",
   "execution_count": 215,
   "metadata": {},
   "outputs": [],
   "source": [
    "#Importing Libraries\n",
    "%matplotlib inline\n",
    "import numpy as np\n",
    "import pandas as pd\n",
    "import statsmodels.api as sm\n",
    "import matplotlib.pyplot as plt\n",
    "import seaborn as sns\n",
    "import gc\n",
    "from sklearn.linear_model import LogisticRegression\n",
    "from sklearn.ensemble import RandomForestClassifier"
   ]
  },
  {
   "cell_type": "code",
   "execution_count": 216,
   "metadata": {},
   "outputs": [
    {
     "name": "stdout",
     "output_type": "stream",
     "text": [
      "(1048, 34)\n",
      "(87504, 34)\n",
      "(5830, 16)\n",
      "(1154, 2)\n"
     ]
    }
   ],
   "source": [
    "#Importing data files\n",
    "seeds = pd.read_csv('DataFiles/NCAATourneySeeds.csv')\n",
    "tourney_results = pd.read_csv('DataFiles/NCAATourneyDetailedResults.csv')\n",
    "regular_results = pd.read_csv('DataFiles/RegularSeasonDetailedResults.csv')\n",
    "kenpom = pd.read_csv('DataFiles/KenPomData.csv', index_col = 0)\n",
    "teams = pd.read_csv('DataFiles/TeamSpellings.csv', dtype = str, engine = 'python')\n",
    "print(tourney_results.shape)\n",
    "print(regular_results.shape)\n",
    "print(kenpom.shape)\n",
    "print(teams.shape)"
   ]
  },
  {
   "cell_type": "markdown",
   "metadata": {},
   "source": [
    "Since the current dataframe has Winning Team ID and losing team ID, we will duplicate the data by swapping the order of teams in given tables:"
   ]
  },
  {
   "cell_type": "code",
   "execution_count": 217,
   "metadata": {},
   "outputs": [],
   "source": [
    "def prepare_data(df):\n",
    "    dfswap = df[['Season', 'DayNum', 'WTeamID', 'WScore', 'LTeamID', 'LScore', 'WLoc',\n",
    "       'NumOT', 'WFGM', 'WFGA', 'WFGM3', 'WFGA3', 'WFTM', 'WFTA', 'WOR', 'WDR',\n",
    "       'WAst', 'WTO', 'WStl', 'WBlk', 'WPF', 'LFGM', 'LFGA', 'LFGM3', 'LFGA3',\n",
    "       'LFTM', 'LFTA', 'LOR', 'LDR', 'LAst', 'LTO', 'LStl', 'LBlk', 'LPF']]\n",
    "\n",
    "    dfswap.loc[df['WLoc'] == 'H', 'WLoc'] = 'A'\n",
    "    dfswap.loc[df['WLoc'] == 'A', 'WLoc'] = 'H'\n",
    "    df.columns.values[6] = 'location'\n",
    "    dfswap.columns.values[6] = 'location'         \n",
    "    df.columns = [x.replace('W','T1_').replace('L','T2_') for x in list(df.columns)]\n",
    "    dfswap.columns = [x.replace('L','T1_').replace('W','T2_') for x in list(dfswap.columns)]\n",
    "    output = pd.concat([df, dfswap]).sort_index().reset_index(drop=True)\n",
    "    \n",
    "    return output"
   ]
  },
  {
   "cell_type": "code",
   "execution_count": 218,
   "metadata": {},
   "outputs": [
    {
     "name": "stderr",
     "output_type": "stream",
     "text": [
      "/home/fractaluser/anaconda3/lib/python3.6/site-packages/ipykernel_launcher.py:13: FutureWarning: Sorting because non-concatenation axis is not aligned. A future version\n",
      "of pandas will change to not sort by default.\n",
      "\n",
      "To accept the future behavior, pass 'sort=False'.\n",
      "\n",
      "To retain the current behavior and silence the warning, pass 'sort=True'.\n",
      "\n",
      "  del sys.path[0]\n"
     ]
    }
   ],
   "source": [
    "tourney_results = prepare_data(tourney_results)\n",
    "regular_results = prepare_data(regular_results)"
   ]
  },
  {
   "cell_type": "code",
   "execution_count": 219,
   "metadata": {},
   "outputs": [
    {
     "name": "stdout",
     "output_type": "stream",
     "text": [
      "(177104, 34)\n"
     ]
    },
    {
     "data": {
      "text/plain": [
       "Index(['DayNum', 'NumOT', 'Season', 'T1_Ast', 'T1_Blk', 'T1_DR', 'T1_FGA',\n",
       "       'T1_FGA3', 'T1_FGM', 'T1_FGM3', 'T1_FTA', 'T1_FTM', 'T1_OR', 'T1_PF',\n",
       "       'T1_Score', 'T1_Stl', 'T1_TO', 'T1_TeamID', 'T2_Ast', 'T2_Blk', 'T2_DR',\n",
       "       'T2_FGA', 'T2_FGA3', 'T2_FGM', 'T2_FGM3', 'T2_FTA', 'T2_FTM', 'T2_OR',\n",
       "       'T2_PF', 'T2_Score', 'T2_Stl', 'T2_TO', 'T2_TeamID', 'location'],\n",
       "      dtype='object')"
      ]
     },
     "execution_count": 219,
     "metadata": {},
     "output_type": "execute_result"
    }
   ],
   "source": [
    "#Concatenating both tourney_results and regular_results into one dataframe\n",
    "data = pd.concat([tourney_results, regular_results])\n",
    "print(data.shape)\n",
    "#print(data.dtypes)\n",
    "data.columns"
   ]
  },
  {
   "cell_type": "code",
   "execution_count": 220,
   "metadata": {},
   "outputs": [],
   "source": [
    "data['T1_TeamID'] = data['T1_TeamID'].astype(str)\n",
    "data['T2_TeamID'] = data['T2_TeamID'].astype(str)\n",
    "\n",
    "# make it a binary task\n",
    "data['win'] = np.where(data['T1_Score']>data['T2_Score'], 1, 0)"
   ]
  },
  {
   "cell_type": "code",
   "execution_count": 221,
   "metadata": {},
   "outputs": [
    {
     "name": "stdout",
     "output_type": "stream",
     "text": [
      "139154\n",
      "139154\n"
     ]
    },
    {
     "data": {
      "text/plain": [
       "103"
      ]
     },
     "execution_count": 221,
     "metadata": {},
     "output_type": "execute_result"
    }
   ],
   "source": [
    "#Bringing in seeds\n",
    "seeds = pd.read_csv('DataFiles/NCAATourneySeeds.csv')\n",
    "seeds['Seed'] = seeds['Seed'].apply(lambda x: int(x[1:3]))\n",
    "seeds['TeamID'] = seeds['TeamID'].astype(str)\n",
    "data = data.merge(seeds, how = 'left', left_on = ['Season', 'T1_TeamID'], right_on = ['Season', 'TeamID'] ).rename(columns = {'Seed': 'T1Seed'})\n",
    "data = data.merge(seeds, how = 'left', left_on = ['Season', 'T2_TeamID'], right_on = ['Season', 'TeamID'] ).rename(columns = {'Seed': 'T2Seed'})\n",
    "data.drop(['TeamID_x', 'TeamID_y'], axis = 1, inplace = True)\n",
    "print(data['T1Seed'].isna().sum())\n",
    "print(data['T2Seed'].isna().sum())\n",
    "gc.collect()\n",
    "#data.columns"
   ]
  },
  {
   "cell_type": "code",
   "execution_count": 222,
   "metadata": {},
   "outputs": [
    {
     "name": "stdout",
     "output_type": "stream",
     "text": [
      "(5829, 16)\n"
     ]
    }
   ],
   "source": [
    "#Checking kenpom data\n",
    "#renaming columns\n",
    "teams['TeamNameSpelling'] = teams['TeamNameSpelling'].str.replace(' ', '').str.lower().str.replace('-', '').str.lower()\n",
    "kenpom.rename(columns= {'Year':'Season'\n",
    "                        }, inplace = True)\n",
    "kenpom['Teams'] = kenpom['Teams'].str.replace('\\d+', '').str.replace(\" \",\"\").str.lower()\n",
    "\n",
    "#Bringing in TeamID\n",
    "kenpom = kenpom.merge(teams[['TeamID', 'TeamNameSpelling']], how = 'left', left_on = 'Teams', right_on='TeamNameSpelling')\n",
    "kenpom.dropna(axis = 0, inplace = True)\n",
    "kenpom = kenpom.groupby(['Season', 'TeamID']).first()\n",
    "print(kenpom.shape)"
   ]
  },
  {
   "cell_type": "code",
   "execution_count": 223,
   "metadata": {},
   "outputs": [],
   "source": [
    "#Bringing in Kenpom data \n",
    "data = data.merge(kenpom, how = 'left', left_on = ['Season', 'T1_TeamID'], right_on = ['Season', 'TeamID'])\n",
    "data.drop(['Teams', 'WinLoss', 'TeamNameSpelling'], axis = 1, inplace = True)\n",
    "data.rename(columns = {'Rank' : 'T1Rank',\n",
    "                        'Conf' : 'T1Conf',\n",
    "                        'AdjustedEM': 'T1AdjustedEM',\n",
    "                        'AdOfE': 'T1AdOfE', \n",
    "                        'AdOfER': 'T1AdOfER', \n",
    "                        'AdDeE': 'T1AdDeE', \n",
    "                        'AdDeER': 'T1AdDeER', \n",
    "                        'AdTempo': 'T1AdTempo', \n",
    "                        'AdTempoR': 'T1AdTempoR', \n",
    "                        'Luck': 'T1Luck',\n",
    "                        'LuckRank':'T1LuckRank', \n",
    "                        'AdSoS': 'T1AdSoS', \n",
    "                        'AdSoSR': 'T1AdSoSR'}, inplace = True)\n",
    "\n",
    "data = data.merge(kenpom, how = 'left', left_on = ['Season', 'T2_TeamID'], right_on = ['Season', 'TeamID'])\n",
    "data.drop(['Teams', 'WinLoss', 'TeamNameSpelling'], axis = 1, inplace = True)\n",
    "data.rename(columns = {'Rank' : 'T2Rank',\n",
    "                        'Conf' : 'T2Conf',\n",
    "                        'AdjustedEM': 'T2AdjustedEM',\n",
    "                        'AdOfE': 'T2AdOfE', \n",
    "                        'AdOfER': 'T2AdOfER', \n",
    "                        'AdDeE': 'T2AdDeE', \n",
    "                        'AdDeER': 'T2AdDeER', \n",
    "                        'AdTempo': 'T2AdTempo', \n",
    "                        'AdTempoR': 'T2AdTempoR', \n",
    "                        'Luck': 'T2Luck',\n",
    "                        'LuckRank':'T2LuckRank', \n",
    "                        'AdSoS': 'T2AdSoS', \n",
    "                        'AdSoSR': 'T2AdSoSR'}, inplace = True)"
   ]
  },
  {
   "cell_type": "code",
   "execution_count": 224,
   "metadata": {},
   "outputs": [
    {
     "name": "stdout",
     "output_type": "stream",
     "text": [
      "['T1Seed', 'T2Seed', 'T1Rank', 'T1Conf', 'T1AdjustedEM', 'T1AdOfE', 'T1AdOfER', 'T1AdDeE', 'T1AdDeER', 'T1AdTempo', 'T1AdTempoR', 'T1Luck', 'T1LuckRank', 'T1AdSoS', 'T1AdSoSR', 'T2Rank', 'T2Conf', 'T2AdjustedEM', 'T2AdOfE', 'T2AdOfER', 'T2AdDeE', 'T2AdDeER', 'T2AdTempo', 'T2AdTempoR', 'T2Luck', 'T2LuckRank', 'T2AdSoS', 'T2AdSoSR']\n",
      "139154\n",
      "139154\n"
     ]
    },
    {
     "name": "stderr",
     "output_type": "stream",
     "text": [
      "/home/fractaluser/anaconda3/lib/python3.6/site-packages/numpy/lib/function_base.py:780: RuntimeWarning: invalid value encountered in greater_equal\n",
      "  keep = (tmp_a >= first_edge)\n",
      "/home/fractaluser/anaconda3/lib/python3.6/site-packages/numpy/lib/function_base.py:781: RuntimeWarning: invalid value encountered in less_equal\n",
      "  keep &= (tmp_a <= last_edge)\n"
     ]
    },
    {
     "data": {
      "text/plain": [
       "(array([2485., 2405., 2380., 2339., 2307., 2283., 2292., 2276., 2251.,\n",
       "        2265., 2703., 2314., 2241., 2196., 2160., 3053.]),\n",
       " array([ 1.    ,  1.9375,  2.875 ,  3.8125,  4.75  ,  5.6875,  6.625 ,\n",
       "         7.5625,  8.5   ,  9.4375, 10.375 , 11.3125, 12.25  , 13.1875,\n",
       "        14.125 , 15.0625, 16.    ]),\n",
       " <a list of 16 Patch objects>)"
      ]
     },
     "execution_count": 224,
     "metadata": {},
     "output_type": "execute_result"
    },
    {
     "name": "stderr",
     "output_type": "stream",
     "text": [
      "/home/fractaluser/anaconda3/lib/python3.6/site-packages/matplotlib/figure.py:2362: UserWarning: This figure includes Axes that are not compatible with tight_layout, so results might be incorrect.\n",
      "  warnings.warn(\"This figure includes Axes that are not compatible \"\n"
     ]
    },
    {
     "data": {
      "image/png": "[encoded data removed]",
      "text/plain": [
       "<Figure size 432x288 with 2 Axes>"
      ]
     },
     "metadata": {},
     "output_type": "display_data"
    }
   ],
   "source": [
    "#Checking which columns have Nan Values\n",
    "print(data.columns[data.isna().any()].tolist())\n",
    "print(data['T1Seed'].isna().sum())\n",
    "print(data['T2Seed'].isna().sum())\n",
    "fig, axs = plt.subplots(1, 2, sharey=True, tight_layout=True)\n",
    "axs[0].hist(data['T1Seed'], bins = 16)\n",
    "axs[1].hist(data['T2Seed'], bins = 16)\n"
   ]
  },
  {
   "cell_type": "code",
   "execution_count": 225,
   "metadata": {},
   "outputs": [
    {
     "name": "stdout",
     "output_type": "stream",
     "text": [
      "47973\n",
      "0\n",
      "0\n",
      "0\n",
      "0\n",
      "0\n",
      "0\n",
      "0\n",
      "0\n",
      "0\n",
      "0\n",
      "0\n",
      "0\n"
     ]
    }
   ],
   "source": [
    "#Since we have a uniform distribution of seeds, we will replace missing values with mean\n",
    "#Replacing those values with mean of the TeamID if it exists and with the mean of Seeds if it does not exits\n",
    "\n",
    "data['T1Seed'] = data.groupby('T1_TeamID')['T1Seed'].transform(lambda x: x.fillna(x.mean()))\n",
    "data['T1Rank'] = data.groupby('T1_TeamID')['T1Rank'].transform(lambda x: x.fillna(x.mean()))\n",
    "data['T1AdjustedEM'] = data.groupby('T1_TeamID')['T1AdjustedEM'].transform(lambda x: x.fillna(x.mean()))\n",
    "data['T1AdOfE'] = data.groupby('T1_TeamID')['T1AdOfE'].transform(lambda x: x.fillna(x.mean()))\n",
    "data['T1AdOfER'] = data.groupby('T1_TeamID')['T1AdOfER'].transform(lambda x: x.fillna(x.mean()))\n",
    "data['T1AdDeER'] = data.groupby('T1_TeamID')['T1AdDeER'].transform(lambda x: x.fillna(x.mean()))\n",
    "data['T1AdDeE'] = data.groupby('T1_TeamID')['T1AdDeE'].transform(lambda x: x.fillna(x.mean()))\n",
    "data['T1AdTempo'] = data.groupby('T1_TeamID')['T1AdTempo'].transform(lambda x: x.fillna(x.mean()))\n",
    "data['T1AdTempoR'] = data.groupby('T1_TeamID')['T1AdTempoR'].transform(lambda x: x.fillna(x.mean()))\n",
    "data['T1Luck'] = data.groupby('T1_TeamID')['T1Luck'].transform(lambda x: x.fillna(x.mean()))\n",
    "data['T1LuckRank'] = data.groupby('T1_TeamID')['T1LuckRank'].transform(lambda x: x.fillna(x.mean()))\n",
    "data['T1AdSoS'] = data.groupby('T1_TeamID')['T1AdSoS'].transform(lambda x: x.fillna(x.mean()))\n",
    "data['T1AdSoSR'] = data.groupby('T1_TeamID')['T1AdSoSR'].transform(lambda x: x.fillna(x.mean()))\n",
    "\n",
    "\n",
    "print(data['T1Seed'].isna().sum())\n",
    "print(data['T1Rank'].isna().sum())\n",
    "print(data['T1AdjustedEM'].isna().sum())\n",
    "print(data['T1AdOfE'].isna().sum())\n",
    "print(data['T1AdOfER'].isna().sum())\n",
    "print(data['T1AdDeE'].isna().sum())\n",
    "print(data['T1AdDeER'].isna().sum())\n",
    "print(data['T1AdTempo'].isna().sum())\n",
    "print(data['T1AdTempoR'].isna().sum())\n",
    "print(data['T1Luck'].isna().sum())\n",
    "print(data['T1LuckRank'].isna().sum())\n",
    "print(data['T1AdSoS'].isna().sum())\n",
    "print(data['T1AdSoSR'].isna().sum())"
   ]
  },
  {
   "cell_type": "code",
   "execution_count": 226,
   "metadata": {},
   "outputs": [
    {
     "name": "stdout",
     "output_type": "stream",
     "text": [
      "47973\n",
      "0\n",
      "0\n",
      "0\n",
      "0\n",
      "0\n",
      "0\n",
      "0\n",
      "0\n",
      "0\n",
      "0\n",
      "0\n",
      "0\n"
     ]
    }
   ],
   "source": [
    "#Since we have a uniform distribution of seeds, we will replace missing values with mean\n",
    "#Replacing those values with mean of the TeamID if it exists and with the mean of Seeds if it does not exits\n",
    "\n",
    "data['T2Seed'] = data.groupby('T2_TeamID')['T2Seed'].transform(lambda x: x.fillna(x.mean()))\n",
    "data['T2Rank'] = data.groupby('T2_TeamID')['T2Rank'].transform(lambda x: x.fillna(x.mean()))\n",
    "data['T2AdjustedEM'] = data.groupby('T2_TeamID')['T2AdjustedEM'].transform(lambda x: x.fillna(x.mean()))\n",
    "data['T2AdOfE'] = data.groupby('T2_TeamID')['T2AdOfE'].transform(lambda x: x.fillna(x.mean()))\n",
    "data['T2AdOfER'] = data.groupby('T2_TeamID')['T2AdOfER'].transform(lambda x: x.fillna(x.mean()))\n",
    "data['T2AdDeER'] = data.groupby('T2_TeamID')['T2AdDeER'].transform(lambda x: x.fillna(x.mean()))\n",
    "data['T2AdDeE'] = data.groupby('T2_TeamID')['T2AdDeE'].transform(lambda x: x.fillna(x.mean()))\n",
    "data['T2AdTempo'] = data.groupby('T2_TeamID')['T2AdTempo'].transform(lambda x: x.fillna(x.mean()))\n",
    "data['T2AdTempoR'] = data.groupby('T2_TeamID')['T2AdTempoR'].transform(lambda x: x.fillna(x.mean()))\n",
    "data['T2Luck'] = data.groupby('T2_TeamID')['T2Luck'].transform(lambda x: x.fillna(x.mean()))\n",
    "data['T2LuckRank'] = data.groupby('T2_TeamID')['T2LuckRank'].transform(lambda x: x.fillna(x.mean()))\n",
    "data['T2AdSoS'] = data.groupby('T2_TeamID')['T2AdSoS'].transform(lambda x: x.fillna(x.mean()))\n",
    "data['T2AdSoSR'] = data.groupby('T2_TeamID')['T2AdSoSR'].transform(lambda x: x.fillna(x.mean()))\n",
    "\n",
    "\n",
    "print(data['T2Seed'].isna().sum())\n",
    "print(data['T2Rank'].isna().sum())\n",
    "print(data['T2AdjustedEM'].isna().sum())\n",
    "print(data['T2AdOfE'].isna().sum())\n",
    "print(data['T2AdOfER'].isna().sum())\n",
    "print(data['T2AdDeE'].isna().sum())\n",
    "print(data['T2AdDeER'].isna().sum())\n",
    "print(data['T2AdTempo'].isna().sum())\n",
    "print(data['T2AdTempoR'].isna().sum())\n",
    "print(data['T2Luck'].isna().sum())\n",
    "print(data['T2LuckRank'].isna().sum())\n",
    "print(data['T2AdSoS'].isna().sum())\n",
    "print(data['T2AdSoSR'].isna().sum())"
   ]
  },
  {
   "cell_type": "code",
   "execution_count": 227,
   "metadata": {},
   "outputs": [
    {
     "name": "stderr",
     "output_type": "stream",
     "text": [
      "/home/fractaluser/anaconda3/lib/python3.6/site-packages/numpy/lib/function_base.py:780: RuntimeWarning: invalid value encountered in greater_equal\n",
      "  keep = (tmp_a >= first_edge)\n",
      "/home/fractaluser/anaconda3/lib/python3.6/site-packages/numpy/lib/function_base.py:781: RuntimeWarning: invalid value encountered in less_equal\n",
      "  keep &= (tmp_a <= last_edge)\n"
     ]
    },
    {
     "data": {
      "text/plain": [
       "(array([ 2485.,  2469.,  3372.,  3425.,  6014.,  8872.,  7706.,  6797.,\n",
       "         5886.,  5011.,  6164.,  7707., 13164., 12090., 17609., 20360.]),\n",
       " array([ 1.    ,  1.9375,  2.875 ,  3.8125,  4.75  ,  5.6875,  6.625 ,\n",
       "         7.5625,  8.5   ,  9.4375, 10.375 , 11.3125, 12.25  , 13.1875,\n",
       "        14.125 , 15.0625, 16.    ]),\n",
       " <a list of 16 Patch objects>)"
      ]
     },
     "execution_count": 227,
     "metadata": {},
     "output_type": "execute_result"
    },
    {
     "name": "stderr",
     "output_type": "stream",
     "text": [
      "/home/fractaluser/anaconda3/lib/python3.6/site-packages/matplotlib/figure.py:2362: UserWarning: This figure includes Axes that are not compatible with tight_layout, so results might be incorrect.\n",
      "  warnings.warn(\"This figure includes Axes that are not compatible \"\n"
     ]
    },
    {
     "data": {
      "image/png": "[encoded data removed]",
      "text/plain": [
       "<Figure size 432x288 with 2 Axes>"
      ]
     },
     "metadata": {},
     "output_type": "display_data"
    }
   ],
   "source": [
    "fig, axs = plt.subplots(1, 2, sharey=True, tight_layout=True)\n",
    "axs[0].hist(data['T1Seed'], bins = 16)\n",
    "axs[1].hist(data['T2Seed'], bins = 16)"
   ]
  },
  {
   "cell_type": "code",
   "execution_count": 228,
   "metadata": {},
   "outputs": [
    {
     "name": "stderr",
     "output_type": "stream",
     "text": [
      "/home/fractaluser/anaconda3/lib/python3.6/site-packages/pandas/core/frame.py:3697: SettingWithCopyWarning: \n",
      "A value is trying to be set on a copy of a slice from a DataFrame\n",
      "\n",
      "See the caveats in the documentation: http://pandas.pydata.org/pandas-docs/stable/indexing.html#indexing-view-versus-copy\n",
      "  errors=errors)\n"
     ]
    },
    {
     "name": "stdout",
     "output_type": "stream",
     "text": [
      "Regression imputation T1Seed complete\n"
     ]
    },
    {
     "name": "stderr",
     "output_type": "stream",
     "text": [
      "/home/fractaluser/anaconda3/lib/python3.6/site-packages/ipykernel_launcher.py:22: SettingWithCopyWarning: \n",
      "A value is trying to be set on a copy of a slice from a DataFrame.\n",
      "Try using .loc[row_indexer,col_indexer] = value instead\n",
      "\n",
      "See the caveats in the documentation: http://pandas.pydata.org/pandas-docs/stable/indexing.html#indexing-view-versus-copy\n"
     ]
    }
   ],
   "source": [
    "#For the rest of the missing values of Seeds, we will train a simple Randomforest regressor model to predict the seeds\n",
    "#test data will be where T1seed or T2 seed is 0\n",
    "\n",
    "#Imputing seeds for T1_TeamID\n",
    "\n",
    "features = ['T1_Ast', 'T1_Blk', 'T1_FGA',\n",
    "       'T1_FGA3', 'T1_FTA', 'T1_PF',\n",
    "       'T1_Stl', 'T1_TO', 'T2_Ast', 'T2_Blk', \n",
    "       'T2_FGA', 'T2_FGA3', 'T2_FTA', \n",
    "       'T2_PF', 'T2_Stl', 'T2_TO']\n",
    "\n",
    "train_data = data[data['T1Seed'].notna()]\n",
    "\n",
    "test_data = data[data['T1Seed'].isna()]\n",
    "test_data.drop(['T1Seed'], axis = 1, inplace = True)\n",
    "from sklearn.ensemble import RandomForestRegressor\n",
    "\n",
    "regr = RandomForestRegressor(max_depth=5, random_state=0, n_estimators=100)\n",
    "\n",
    "regr.fit(train_data[features], train_data['T1Seed'])\n",
    "\n",
    "test_data['T1Seed'] = regr.predict(test_data[features])                 \n",
    "\n",
    "print(\"Regression imputation T1Seed complete\")"
   ]
  },
  {
   "cell_type": "code",
   "execution_count": 229,
   "metadata": {},
   "outputs": [
    {
     "name": "stdout",
     "output_type": "stream",
     "text": [
      "(177104, 63)\n"
     ]
    },
    {
     "name": "stderr",
     "output_type": "stream",
     "text": [
      "/home/fractaluser/anaconda3/lib/python3.6/site-packages/ipykernel_launcher.py:1: FutureWarning: Sorting because non-concatenation axis is not aligned. A future version\n",
      "of pandas will change to not sort by default.\n",
      "\n",
      "To accept the future behavior, pass 'sort=False'.\n",
      "\n",
      "To retain the current behavior and silence the warning, pass 'sort=True'.\n",
      "\n",
      "  \"\"\"Entry point for launching an IPython kernel.\n"
     ]
    }
   ],
   "source": [
    "data = pd.concat([train_data, test_data])\n",
    "print(data.shape)"
   ]
  },
  {
   "cell_type": "code",
   "execution_count": 230,
   "metadata": {},
   "outputs": [
    {
     "name": "stderr",
     "output_type": "stream",
     "text": [
      "/home/fractaluser/anaconda3/lib/python3.6/site-packages/pandas/core/frame.py:3697: SettingWithCopyWarning: \n",
      "A value is trying to be set on a copy of a slice from a DataFrame\n",
      "\n",
      "See the caveats in the documentation: http://pandas.pydata.org/pandas-docs/stable/indexing.html#indexing-view-versus-copy\n",
      "  errors=errors)\n"
     ]
    },
    {
     "name": "stdout",
     "output_type": "stream",
     "text": [
      "Regression imputation T2Seed complete\n",
      "(177104, 63)\n"
     ]
    },
    {
     "name": "stderr",
     "output_type": "stream",
     "text": [
      "/home/fractaluser/anaconda3/lib/python3.6/site-packages/ipykernel_launcher.py:13: SettingWithCopyWarning: \n",
      "A value is trying to be set on a copy of a slice from a DataFrame.\n",
      "Try using .loc[row_indexer,col_indexer] = value instead\n",
      "\n",
      "See the caveats in the documentation: http://pandas.pydata.org/pandas-docs/stable/indexing.html#indexing-view-versus-copy\n",
      "  del sys.path[0]\n",
      "/home/fractaluser/anaconda3/lib/python3.6/site-packages/ipykernel_launcher.py:16: FutureWarning: Sorting because non-concatenation axis is not aligned. A future version\n",
      "of pandas will change to not sort by default.\n",
      "\n",
      "To accept the future behavior, pass 'sort=False'.\n",
      "\n",
      "To retain the current behavior and silence the warning, pass 'sort=True'.\n",
      "\n",
      "  app.launch_new_instance()\n"
     ]
    },
    {
     "data": {
      "text/plain": [
       "0"
      ]
     },
     "execution_count": 230,
     "metadata": {},
     "output_type": "execute_result"
    }
   ],
   "source": [
    "#Imputing Seed for T2_TeamID in a similar manner\n",
    "\n",
    "train_data = data[data['T2Seed'].notna()]\n",
    "\n",
    "test_data = data[data['T2Seed'].isna()]\n",
    "test_data.drop(['T2Seed'], axis = 1, inplace = True)\n",
    "from sklearn.ensemble import RandomForestRegressor\n",
    "\n",
    "regr = RandomForestRegressor(max_depth=5, random_state=0, n_estimators=100)\n",
    "\n",
    "regr.fit(train_data[features], train_data['T2Seed'])\n",
    "\n",
    "test_data['T2Seed'] = regr.predict(test_data[features])  \n",
    "\n",
    "print(\"Regression imputation T2Seed complete\")\n",
    "data = pd.concat([train_data, test_data])\n",
    "print(data.shape)\n",
    "gc.collect()"
   ]
  },
  {
   "cell_type": "code",
   "execution_count": 231,
   "metadata": {},
   "outputs": [
    {
     "data": {
      "text/plain": [
       "(array([ 2485.,  2469.,  3372.,  3425.,  6014.,  8872.,  7721.,  6995.,\n",
       "         7135., 10628., 24842., 26569., 16277., 12331., 17609., 20360.]),\n",
       " array([ 1.    ,  1.9375,  2.875 ,  3.8125,  4.75  ,  5.6875,  6.625 ,\n",
       "         7.5625,  8.5   ,  9.4375, 10.375 , 11.3125, 12.25  , 13.1875,\n",
       "        14.125 , 15.0625, 16.    ]),\n",
       " <a list of 16 Patch objects>)"
      ]
     },
     "execution_count": 231,
     "metadata": {},
     "output_type": "execute_result"
    },
    {
     "name": "stderr",
     "output_type": "stream",
     "text": [
      "/home/fractaluser/anaconda3/lib/python3.6/site-packages/matplotlib/figure.py:2362: UserWarning: This figure includes Axes that are not compatible with tight_layout, so results might be incorrect.\n",
      "  warnings.warn(\"This figure includes Axes that are not compatible \"\n"
     ]
    },
    {
     "data": {
      "image/png": "[encoded data removed]",
      "text/plain": [
       "<Figure size 432x288 with 2 Axes>"
      ]
     },
     "metadata": {},
     "output_type": "display_data"
    }
   ],
   "source": [
    "fig, axs = plt.subplots(1, 2, sharey=True, tight_layout=True)\n",
    "axs[0].hist(data['T1Seed'], bins = 16)\n",
    "axs[1].hist(data['T2Seed'], bins = 16)"
   ]
  },
  {
   "cell_type": "code",
   "execution_count": 232,
   "metadata": {},
   "outputs": [
    {
     "data": {
      "image/png": "[encoded data removed]",
      "text/plain": [
       "<Figure size 360x360 with 1 Axes>"
      ]
     },
     "metadata": {},
     "output_type": "display_data"
    }
   ],
   "source": [
    "#Checking relationship between number of overtime with wins\n",
    "sns.set(style=\"ticks\", color_codes=True)\n",
    "sns.catplot(x=\"win\", y=\"NumOT\", data = data);"
   ]
  },
  {
   "cell_type": "code",
   "execution_count": 233,
   "metadata": {},
   "outputs": [
    {
     "data": {
      "image/png": "[encoded data removed]",
      "text/plain": [
       "<Figure size 360x360 with 1 Axes>"
      ]
     },
     "metadata": {},
     "output_type": "display_data"
    }
   ],
   "source": [
    "sns.set(style=\"ticks\", color_codes=True)\n",
    "sns.catplot(x=\"win\", y=\"DayNum\", data = data);"
   ]
  },
  {
   "cell_type": "code",
   "execution_count": 183,
   "metadata": {},
   "outputs": [
    {
     "name": "stdout",
     "output_type": "stream",
     "text": [
      "<class 'pandas.core.frame.DataFrame'>\n",
      "Int64Index: 177104 entries, 0 to 176977\n",
      "Data columns (total 63 columns):\n",
      "DayNum          177104 non-null int64\n",
      "NumOT           177104 non-null int64\n",
      "Season          177104 non-null int64\n",
      "T1AdDeE         177104 non-null float64\n",
      "T1AdDeER        177104 non-null float64\n",
      "T1AdOfE         177104 non-null float64\n",
      "T1AdOfER        177104 non-null float64\n",
      "T1AdSoS         177104 non-null float64\n",
      "T1AdSoSR        177104 non-null float64\n",
      "T1AdTempo       177104 non-null float64\n",
      "T1AdTempoR      177104 non-null float64\n",
      "T1AdjustedEM    177104 non-null float64\n",
      "T1Conf          177019 non-null object\n",
      "T1Luck          177104 non-null float64\n",
      "T1LuckRank      177104 non-null float64\n",
      "T1Rank          177104 non-null float64\n",
      "T1Seed          177104 non-null float64\n",
      "T1_Ast          177104 non-null int64\n",
      "T1_Blk          177104 non-null int64\n",
      "T1_DR           177104 non-null int64\n",
      "T1_FGA          177104 non-null int64\n",
      "T1_FGA3         177104 non-null int64\n",
      "T1_FGM          177104 non-null int64\n",
      "T1_FGM3         177104 non-null int64\n",
      "T1_FTA          177104 non-null int64\n",
      "T1_FTM          177104 non-null int64\n",
      "T1_OR           177104 non-null int64\n",
      "T1_PF           177104 non-null int64\n",
      "T1_Score        177104 non-null int64\n",
      "T1_Stl          177104 non-null int64\n",
      "T1_TO           177104 non-null int64\n",
      "T1_TeamID       177104 non-null object\n",
      "T2AdDeE         177104 non-null float64\n",
      "T2AdDeER        177104 non-null float64\n",
      "T2AdOfE         177104 non-null float64\n",
      "T2AdOfER        177104 non-null float64\n",
      "T2AdSoS         177104 non-null float64\n",
      "T2AdSoSR        177104 non-null float64\n",
      "T2AdTempo       177104 non-null float64\n",
      "T2AdTempoR      177104 non-null float64\n",
      "T2AdjustedEM    177104 non-null float64\n",
      "T2Conf          177019 non-null object\n",
      "T2Luck          177104 non-null float64\n",
      "T2LuckRank      177104 non-null float64\n",
      "T2Rank          177104 non-null float64\n",
      "T2Seed          177104 non-null float64\n",
      "T2_Ast          177104 non-null int64\n",
      "T2_Blk          177104 non-null int64\n",
      "T2_DR           177104 non-null int64\n",
      "T2_FGA          177104 non-null int64\n",
      "T2_FGA3         177104 non-null int64\n",
      "T2_FGM          177104 non-null int64\n",
      "T2_FGM3         177104 non-null int64\n",
      "T2_FTA          177104 non-null int64\n",
      "T2_FTM          177104 non-null int64\n",
      "T2_OR           177104 non-null int64\n",
      "T2_PF           177104 non-null int64\n",
      "T2_Score        177104 non-null int64\n",
      "T2_Stl          177104 non-null int64\n",
      "T2_TO           177104 non-null int64\n",
      "T2_TeamID       177104 non-null object\n",
      "location        177104 non-null object\n",
      "win             177104 non-null int64\n",
      "dtypes: float64(26), int64(32), object(5)\n",
      "memory usage: 86.5+ MB\n"
     ]
    }
   ],
   "source": [
    "data.info()"
   ]
  },
  {
   "cell_type": "code",
   "execution_count": 236,
   "metadata": {},
   "outputs": [
    {
     "name": "stdout",
     "output_type": "stream",
     "text": [
      "(155234, 62)\n",
      "(21870, 62)\n"
     ]
    },
    {
     "name": "stderr",
     "output_type": "stream",
     "text": [
      "/home/fractaluser/anaconda3/lib/python3.6/site-packages/pandas/core/frame.py:3697: SettingWithCopyWarning: \n",
      "A value is trying to be set on a copy of a slice from a DataFrame\n",
      "\n",
      "See the caveats in the documentation: http://pandas.pydata.org/pandas-docs/stable/indexing.html#indexing-view-versus-copy\n",
      "  errors=errors)\n"
     ]
    }
   ],
   "source": [
    "#Splitting data into train and validation\n",
    "train_X = data[data['Season'] <= 2017]\n",
    "val_X = data[data['Season'] > 2017]\n",
    "train_y = train_X['win']\n",
    "val_y = val_X['win']\n",
    "train_X.drop(['win'], axis = 1, inplace = True)\n",
    "val_X.drop(['win'], axis = 1, inplace = True)\n",
    "print(train_X.shape)\n",
    "print(val_X.shape)"
   ]
  },
  {
   "cell_type": "code",
   "execution_count": 237,
   "metadata": {},
   "outputs": [
    {
     "name": "stderr",
     "output_type": "stream",
     "text": [
      "/home/fractaluser/anaconda3/lib/python3.6/site-packages/ipykernel_launcher.py:4: SettingWithCopyWarning: \n",
      "A value is trying to be set on a copy of a slice from a DataFrame.\n",
      "Try using .loc[row_indexer,col_indexer] = value instead\n",
      "\n",
      "See the caveats in the documentation: http://pandas.pydata.org/pandas-docs/stable/indexing.html#indexing-view-versus-copy\n",
      "  after removing the cwd from sys.path.\n",
      "/home/fractaluser/anaconda3/lib/python3.6/site-packages/ipykernel_launcher.py:8: SettingWithCopyWarning: \n",
      "A value is trying to be set on a copy of a slice from a DataFrame.\n",
      "Try using .loc[row_indexer,col_indexer] = value instead\n",
      "\n",
      "See the caveats in the documentation: http://pandas.pydata.org/pandas-docs/stable/indexing.html#indexing-view-versus-copy\n",
      "  \n"
     ]
    }
   ],
   "source": [
    "#Creating benchmark model with seeds and seed difference as features\n",
    "benchmark_train_X = train_X[['T1Seed', 'T2Seed']]\n",
    "benchmark_train_y = train_y\n",
    "benchmark_train_X['diff'] = benchmark_train_X['T1Seed'] - benchmark_train_X['T1Seed']\n",
    "\n",
    "benchmark_val_X = val_X[['T1Seed', 'T2Seed']]\n",
    "benchmark_val_y = val_y\n",
    "benchmark_val_X['diff'] = benchmark_val_X['T1Seed'] - benchmark_val_X['T1Seed']"
   ]
  },
  {
   "cell_type": "code",
   "execution_count": 238,
   "metadata": {},
   "outputs": [
    {
     "name": "stdout",
     "output_type": "stream",
     "text": [
      "The benchmark logloss to beat is 0.6637146205272134\n",
      "The benchmark roc-auc to beat is 0.6304704295595477\n"
     ]
    }
   ],
   "source": [
    "#Fitting the base logistic regression model\n",
    "from sklearn.linear_model import LogisticRegression\n",
    "base_model = LogisticRegression(dual = True, class_weight= 'balanced', max_iter = 100, random_state = 17)\n",
    "base_model.fit(benchmark_train_X, benchmark_train_y)\n",
    "\n",
    "benchmark_predictions = base_model.predict_proba(benchmark_val_X)\n",
    "#Checking logloss score on trained model\n",
    "\n",
    "from sklearn.metrics import log_loss, roc_auc_score\n",
    "benchmark_logloss = log_loss(benchmark_val_y, benchmark_predictions)\n",
    "benchmark_auc = roc_auc_score(benchmark_val_y, benchmark_predictions[:,1])\n",
    "print(\"The benchmark logloss to beat is {}\".format(benchmark_logloss))\n",
    "print(\"The benchmark roc-auc to beat is {}\".format(benchmark_auc))\n",
    "\n",
    "del(train_X, val_X, benchmark_train_X, benchmark_train_y, benchmark_val_X, benchmark_val_y, train_y, val_y )"
   ]
  },
  {
   "cell_type": "code",
   "execution_count": 187,
   "metadata": {},
   "outputs": [
    {
     "data": {
      "text/plain": [
       "Index(['DayNum', 'NumOT', 'Season', 'T1AdDeE', 'T1AdDeER', 'T1AdOfE',\n",
       "       'T1AdOfER', 'T1AdSoS', 'T1AdSoSR', 'T1AdTempo', 'T1AdTempoR',\n",
       "       'T1AdjustedEM', 'T1Conf', 'T1Luck', 'T1LuckRank', 'T1Rank', 'T1Seed',\n",
       "       'T1_Ast', 'T1_Blk', 'T1_DR', 'T1_FGA', 'T1_FGA3', 'T1_FGM', 'T1_FGM3',\n",
       "       'T1_FTA', 'T1_FTM', 'T1_OR', 'T1_PF', 'T1_Score', 'T1_Stl', 'T1_TO',\n",
       "       'T1_TeamID', 'T2AdDeE', 'T2AdDeER', 'T2AdOfE', 'T2AdOfER', 'T2AdSoS',\n",
       "       'T2AdSoSR', 'T2AdTempo', 'T2AdTempoR', 'T2AdjustedEM', 'T2Conf',\n",
       "       'T2Luck', 'T2LuckRank', 'T2Rank', 'T2Seed', 'T2_Ast', 'T2_Blk', 'T2_DR',\n",
       "       'T2_FGA', 'T2_FGA3', 'T2_FGM', 'T2_FGM3', 'T2_FTA', 'T2_FTM', 'T2_OR',\n",
       "       'T2_PF', 'T2_Score', 'T2_Stl', 'T2_TO', 'T2_TeamID', 'location', 'win'],\n",
       "      dtype='object')"
      ]
     },
     "execution_count": 187,
     "metadata": {},
     "output_type": "execute_result"
    }
   ],
   "source": [
    "data.columns"
   ]
  },
  {
   "cell_type": "code",
   "execution_count": 239,
   "metadata": {},
   "outputs": [],
   "source": [
    "#Now that we have our benchmark metric to beat let us engineer certain features based on nbastuffer analytics\n",
    "\n",
    "def feauture_engineering(df, ID = 'T1', ID2 = 'T2'):\n",
    "    features = ['Assist_Ratio', 'Turnover_Ratio', 'Possession', 'Offensive_Efficiency', 'Defensive_Efficiency',\n",
    "               'Point_Differential', 'Efficiency_Differential', 'Defensive_Rebound_Perc', 'Offensive_Rebound_Perc',\n",
    "               'Eff_Field_Goal_Perc', 'Turnover_Rate', 'Free_Throw_Rate', 'Four_Factor']\n",
    "    features = [ID + '_' + str(feature) for feature in features]\n",
    "\n",
    "    df[features[0]] = ((df.filter(regex = ID+\".*Ast$\").values*100)/(df.filter(regex = ID+'.*FGA$').values + \\\n",
    "                                                                    df.filter(regex = ID+'.*FTA$').values*0.44 + \\\n",
    "                                                                    df.filter(regex = ID+'.*Ast$').values + \\\n",
    "                                                                    df.filter(regex = ID+'.*TO$').values)).ravel()\n",
    "    df[features[1]] = ((df.filter(regex = ID+\".*TO$\").values*100)/(df.filter(regex = ID+'.*FGA$').values + \\\n",
    "                                                                    df.filter(regex = ID+'.*FTA$').values*0.44 + \\\n",
    "                                                                    df.filter(regex = ID+'.*Ast$').values + \\\n",
    "                                                                    df.filter(regex = ID+'.*TO$').values)).ravel()\n",
    "    df[features[2]] = (0.96*(df.filter(regex = ID+'.*FGA$').values + \\\n",
    "                                                                    df.filter(regex = ID+'.*FTA$').values*0.44 - \\\n",
    "                                                                    df.filter(regex = ID+'.*OR$').values + \\\n",
    "                                                                    df.filter(regex = ID+'.*TO$').values)).ravel()\n",
    "    df[features[3]] = 100*(df.filter(regex = ID+'.*Score$').values).ravel()/df[features[2]]\n",
    "    \n",
    "    df[features[4]] = 100*(df.filter(regex = ID2 + '.*Score$').values).ravel()/df[features[2]]\n",
    "    \n",
    "    df[features[5]] = (df.filter(regex = ID+'.*Score$').values - df.filter(regex = ID2 + '.*Score$').values).ravel()\n",
    "    \n",
    "    df[features[6]] = df[features[3]] -  df[features[4]]\n",
    "    \n",
    "    df[features[7]] = (df.filter(regex = ID+'.*DR$').values/(df.filter(regex = ID+'.*DR$').values + \\\n",
    "                                                            df.filter(regex = ID2+'.*OR$').values)).ravel()\n",
    "    \n",
    "    df[features[8]] = (df.filter(regex = ID+'.*OR$').values/(df.filter(regex = ID+'.*OR$').values + \\\n",
    "                                                            df.filter(regex = ID2+'.*DR$').values)).ravel()\n",
    "    \n",
    "    df[features[9]] = ((df.filter(regex = ID+'.*FGM$').values + 0.5*df.filter(regex = ID+'.*FGM3$').values)/ \\\n",
    "                        df.filter(regex = ID+'.*FGA$').values).ravel()\n",
    "    \n",
    "    df[features[10]] = ((df.filter(regex = ID+\".*TO$\").values)/(df.filter(regex = ID+'.*FGA$').values + \\\n",
    "                                                                    df.filter(regex = ID+'.*FTA$').values*0.44 + \\\n",
    "                                                                    df.filter(regex = ID+'.*TO$').values)).ravel()\n",
    "    df[features[11]] = (df.filter(regex = ID+\".*FTM$\").values/df.filter(regex = ID+\".*FGA$\").values).ravel()\n",
    "    \n",
    "    df[features[12]] = 0.4*df[features[9]] + 0.25* df[features[10]] + 0.2*df[features[8]] + 0.15*df[features[11]]\n",
    "    return df"
   ]
  },
  {
   "cell_type": "code",
   "execution_count": 240,
   "metadata": {},
   "outputs": [
    {
     "data": {
      "text/html": [
       "<div>\n",
       "<style scoped>\n",
       "    .dataframe tbody tr th:only-of-type {\n",
       "        vertical-align: middle;\n",
       "    }\n",
       "\n",
       "    .dataframe tbody tr th {\n",
       "        vertical-align: top;\n",
       "    }\n",
       "\n",
       "    .dataframe thead th {\n",
       "        text-align: right;\n",
       "    }\n",
       "</style>\n",
       "<table border=\"1\" class=\"dataframe\">\n",
       "  <thead>\n",
       "    <tr style=\"text-align: right;\">\n",
       "      <th></th>\n",
       "      <th>DayNum</th>\n",
       "      <th>NumOT</th>\n",
       "      <th>Season</th>\n",
       "      <th>T1AdDeE</th>\n",
       "      <th>T1AdDeER</th>\n",
       "      <th>T1AdOfE</th>\n",
       "      <th>T1AdOfER</th>\n",
       "      <th>T1AdSoS</th>\n",
       "      <th>T1AdSoSR</th>\n",
       "      <th>T1AdTempo</th>\n",
       "      <th>...</th>\n",
       "      <th>T2_Defensive_Efficiency</th>\n",
       "      <th>T2_Point_Differential</th>\n",
       "      <th>T2_Efficiency_Differential</th>\n",
       "      <th>T2_Defensive_Rebound_Perc</th>\n",
       "      <th>T2_Offensive_Rebound_Perc</th>\n",
       "      <th>T2_Eff_Field_Goal_Perc</th>\n",
       "      <th>T2_Turnover_Rate</th>\n",
       "      <th>T2_Free_Throw_Rate</th>\n",
       "      <th>T2_Four_Factor</th>\n",
       "      <th>Seed_Diff</th>\n",
       "    </tr>\n",
       "  </thead>\n",
       "  <tbody>\n",
       "    <tr>\n",
       "      <th>0</th>\n",
       "      <td>134</td>\n",
       "      <td>1</td>\n",
       "      <td>2003</td>\n",
       "      <td>113.5</td>\n",
       "      <td>319.0</td>\n",
       "      <td>101.2</td>\n",
       "      <td>187.0</td>\n",
       "      <td>-6.45</td>\n",
       "      <td>272.0</td>\n",
       "      <td>68.0</td>\n",
       "      <td>...</td>\n",
       "      <td>121.863344</td>\n",
       "      <td>-8</td>\n",
       "      <td>-10.596812</td>\n",
       "      <td>0.666667</td>\n",
       "      <td>0.361702</td>\n",
       "      <td>0.522388</td>\n",
       "      <td>0.156838</td>\n",
       "      <td>0.208955</td>\n",
       "      <td>0.351848</td>\n",
       "      <td>0.0</td>\n",
       "    </tr>\n",
       "    <tr>\n",
       "      <th>1</th>\n",
       "      <td>134</td>\n",
       "      <td>1</td>\n",
       "      <td>2003</td>\n",
       "      <td>108.7</td>\n",
       "      <td>281.0</td>\n",
       "      <td>98.3</td>\n",
       "      <td>238.0</td>\n",
       "      <td>-12.97</td>\n",
       "      <td>321.0</td>\n",
       "      <td>68.4</td>\n",
       "      <td>...</td>\n",
       "      <td>111.550229</td>\n",
       "      <td>8</td>\n",
       "      <td>10.623831</td>\n",
       "      <td>0.638298</td>\n",
       "      <td>0.333333</td>\n",
       "      <td>0.543478</td>\n",
       "      <td>0.129814</td>\n",
       "      <td>0.246377</td>\n",
       "      <td>0.353468</td>\n",
       "      <td>0.0</td>\n",
       "    </tr>\n",
       "    <tr>\n",
       "      <th>2</th>\n",
       "      <td>136</td>\n",
       "      <td>0</td>\n",
       "      <td>2003</td>\n",
       "      <td>99.5</td>\n",
       "      <td>114.0</td>\n",
       "      <td>101.1</td>\n",
       "      <td>191.0</td>\n",
       "      <td>-5.13</td>\n",
       "      <td>251.0</td>\n",
       "      <td>64.4</td>\n",
       "      <td>...</td>\n",
       "      <td>68.850441</td>\n",
       "      <td>29</td>\n",
       "      <td>39.150251</td>\n",
       "      <td>0.818182</td>\n",
       "      <td>0.297297</td>\n",
       "      <td>0.522727</td>\n",
       "      <td>0.181488</td>\n",
       "      <td>0.166667</td>\n",
       "      <td>0.338922</td>\n",
       "      <td>15.0</td>\n",
       "    </tr>\n",
       "    <tr>\n",
       "      <th>3</th>\n",
       "      <td>136</td>\n",
       "      <td>0</td>\n",
       "      <td>2003</td>\n",
       "      <td>88.8</td>\n",
       "      <td>8.0</td>\n",
       "      <td>115.6</td>\n",
       "      <td>10.0</td>\n",
       "      <td>8.69</td>\n",
       "      <td>31.0</td>\n",
       "      <td>72.7</td>\n",
       "      <td>...</td>\n",
       "      <td>109.533824</td>\n",
       "      <td>-29</td>\n",
       "      <td>-39.706011</td>\n",
       "      <td>0.702703</td>\n",
       "      <td>0.181818</td>\n",
       "      <td>0.343750</td>\n",
       "      <td>0.202188</td>\n",
       "      <td>0.109375</td>\n",
       "      <td>0.240817</td>\n",
       "      <td>-15.0</td>\n",
       "    </tr>\n",
       "    <tr>\n",
       "      <th>4</th>\n",
       "      <td>136</td>\n",
       "      <td>0</td>\n",
       "      <td>2003</td>\n",
       "      <td>97.4</td>\n",
       "      <td>78.0</td>\n",
       "      <td>113.9</td>\n",
       "      <td>18.0</td>\n",
       "      <td>8.74</td>\n",
       "      <td>30.0</td>\n",
       "      <td>66.9</td>\n",
       "      <td>...</td>\n",
       "      <td>124.572893</td>\n",
       "      <td>-13</td>\n",
       "      <td>-19.279138</td>\n",
       "      <td>0.687500</td>\n",
       "      <td>0.425532</td>\n",
       "      <td>0.413043</td>\n",
       "      <td>0.132979</td>\n",
       "      <td>0.202899</td>\n",
       "      <td>0.314003</td>\n",
       "      <td>3.0</td>\n",
       "    </tr>\n",
       "  </tbody>\n",
       "</table>\n",
       "<p>5 rows × 90 columns</p>\n",
       "</div>"
      ],
      "text/plain": [
       "   DayNum  NumOT  Season  T1AdDeE  T1AdDeER  T1AdOfE  T1AdOfER  T1AdSoS  \\\n",
       "0     134      1    2003    113.5     319.0    101.2     187.0    -6.45   \n",
       "1     134      1    2003    108.7     281.0     98.3     238.0   -12.97   \n",
       "2     136      0    2003     99.5     114.0    101.1     191.0    -5.13   \n",
       "3     136      0    2003     88.8       8.0    115.6      10.0     8.69   \n",
       "4     136      0    2003     97.4      78.0    113.9      18.0     8.74   \n",
       "\n",
       "   T1AdSoSR  T1AdTempo    ...      T2_Defensive_Efficiency  \\\n",
       "0     272.0       68.0    ...                   121.863344   \n",
       "1     321.0       68.4    ...                   111.550229   \n",
       "2     251.0       64.4    ...                    68.850441   \n",
       "3      31.0       72.7    ...                   109.533824   \n",
       "4      30.0       66.9    ...                   124.572893   \n",
       "\n",
       "   T2_Point_Differential T2_Efficiency_Differential  \\\n",
       "0                     -8                 -10.596812   \n",
       "1                      8                  10.623831   \n",
       "2                     29                  39.150251   \n",
       "3                    -29                 -39.706011   \n",
       "4                    -13                 -19.279138   \n",
       "\n",
       "   T2_Defensive_Rebound_Perc  T2_Offensive_Rebound_Perc  \\\n",
       "0                   0.666667                   0.361702   \n",
       "1                   0.638298                   0.333333   \n",
       "2                   0.818182                   0.297297   \n",
       "3                   0.702703                   0.181818   \n",
       "4                   0.687500                   0.425532   \n",
       "\n",
       "   T2_Eff_Field_Goal_Perc  T2_Turnover_Rate  T2_Free_Throw_Rate  \\\n",
       "0                0.522388          0.156838            0.208955   \n",
       "1                0.543478          0.129814            0.246377   \n",
       "2                0.522727          0.181488            0.166667   \n",
       "3                0.343750          0.202188            0.109375   \n",
       "4                0.413043          0.132979            0.202899   \n",
       "\n",
       "   T2_Four_Factor  Seed_Diff  \n",
       "0        0.351848        0.0  \n",
       "1        0.353468        0.0  \n",
       "2        0.338922       15.0  \n",
       "3        0.240817      -15.0  \n",
       "4        0.314003        3.0  \n",
       "\n",
       "[5 rows x 90 columns]"
      ]
     },
     "execution_count": 240,
     "metadata": {},
     "output_type": "execute_result"
    }
   ],
   "source": [
    "data = feauture_engineering(data, ID = 'T1', ID2= 'T2')\n",
    "data = feauture_engineering(data, ID = 'T2', ID2= 'T1')\n",
    "data['Seed_Diff'] = data['T1Seed'] - data['T2Seed']\n",
    "data.head()"
   ]
  },
  {
   "cell_type": "code",
   "execution_count": 243,
   "metadata": {},
   "outputs": [
    {
     "name": "stdout",
     "output_type": "stream",
     "text": [
      "(177104, 90)\n",
      "Index(['DayNum', 'NumOT', 'Season', 'T1AdDeE', 'T1AdDeER', 'T1AdOfE',\n",
      "       'T1AdOfER', 'T1AdSoS', 'T1AdSoSR', 'T1AdTempo', 'T1AdTempoR',\n",
      "       'T1AdjustedEM', 'T1Conf', 'T1Luck', 'T1LuckRank', 'T1Rank', 'T1Seed',\n",
      "       'T1_Ast', 'T1_Blk', 'T1_DR', 'T1_FGA', 'T1_FGA3', 'T1_FGM', 'T1_FGM3',\n",
      "       'T1_FTA', 'T1_FTM', 'T1_OR', 'T1_PF', 'T1_Score', 'T1_Stl', 'T1_TO',\n",
      "       'T1_TeamID', 'T2AdDeE', 'T2AdDeER', 'T2AdOfE', 'T2AdOfER', 'T2AdSoS',\n",
      "       'T2AdSoSR', 'T2AdTempo', 'T2AdTempoR', 'T2AdjustedEM', 'T2Conf',\n",
      "       'T2Luck', 'T2LuckRank', 'T2Rank', 'T2Seed', 'T2_Ast', 'T2_Blk', 'T2_DR',\n",
      "       'T2_FGA', 'T2_FGA3', 'T2_FGM', 'T2_FGM3', 'T2_FTA', 'T2_FTM', 'T2_OR',\n",
      "       'T2_PF', 'T2_Score', 'T2_Stl', 'T2_TO', 'T2_TeamID', 'location', 'win',\n",
      "       'T1_Assist_Ratio', 'T1_Turnover_Ratio', 'T1_Possession',\n",
      "       'T1_Offensive_Efficiency', 'T1_Defensive_Efficiency',\n",
      "       'T1_Point_Differential', 'T1_Efficiency_Differential',\n",
      "       'T1_Defensive_Rebound_Perc', 'T1_Offensive_Rebound_Perc',\n",
      "       'T1_Eff_Field_Goal_Perc', 'T1_Turnover_Rate', 'T1_Free_Throw_Rate',\n",
      "       'T1_Four_Factor', 'T2_Assist_Ratio', 'T2_Turnover_Ratio',\n",
      "       'T2_Possession', 'T2_Offensive_Efficiency', 'T2_Defensive_Efficiency',\n",
      "       'T2_Point_Differential', 'T2_Efficiency_Differential',\n",
      "       'T2_Defensive_Rebound_Perc', 'T2_Offensive_Rebound_Perc',\n",
      "       'T2_Eff_Field_Goal_Perc', 'T2_Turnover_Rate', 'T2_Free_Throw_Rate',\n",
      "       'T2_Four_Factor', 'Seed_Diff'],\n",
      "      dtype='object')\n"
     ]
    }
   ],
   "source": [
    "import category_encoders as ce\n",
    "encoder = ce.TargetEncoder()\n",
    "encoder.fit(data[['T1Conf', 'T2Conf']], data['win'])\n",
    "data[['T1Conf', 'T2Conf']] = encoder.transform(data[['T1Conf', 'T2Conf']])\n",
    "print(data.shape)\n",
    "print(data.columns)"
   ]
  },
  {
   "cell_type": "code",
   "execution_count": 248,
   "metadata": {},
   "outputs": [],
   "source": [
    "features = ['T1AdDeE', 'T1AdDeER', 'T1AdOfE',\n",
    "       'T1AdOfER', 'T1AdSoS', 'T1AdSoSR', 'T1AdTempo', 'T1AdTempoR',\n",
    "       'T1AdjustedEM', 'T1Conf', 'T1Luck', 'T1LuckRank', 'T1Rank', 'T1Seed',\n",
    "       'T2AdDeE', 'T2AdDeER', 'T2AdOfE', 'T2AdOfER', 'T2AdSoS',\n",
    "       'T2AdSoSR', 'T2AdTempo', 'T2AdTempoR', 'T2AdjustedEM', 'T2Conf',\n",
    "       'T2Luck', 'T2LuckRank', 'T2Rank', 'T2Seed',\n",
    "       'Seed_Diff']"
   ]
  },
  {
   "cell_type": "markdown",
   "metadata": {},
   "source": [
    "### Lets check the performance of our models and compare it to benchmark results"
   ]
  },
  {
   "cell_type": "code",
   "execution_count": 249,
   "metadata": {},
   "outputs": [
    {
     "name": "stderr",
     "output_type": "stream",
     "text": [
      "/home/fractaluser/anaconda3/lib/python3.6/site-packages/pandas/core/frame.py:3697: SettingWithCopyWarning: \n",
      "A value is trying to be set on a copy of a slice from a DataFrame\n",
      "\n",
      "See the caveats in the documentation: http://pandas.pydata.org/pandas-docs/stable/indexing.html#indexing-view-versus-copy\n",
      "  errors=errors)\n"
     ]
    },
    {
     "name": "stdout",
     "output_type": "stream",
     "text": [
      "(166232, 89)\n",
      "(10872, 89)\n",
      "The logloss after feature engineering is 0.4814452798850766 for season 2016\n",
      "The roc-auc after feature engineering is 0.8470667912550944 for season 2016\n",
      "(166180, 89)\n",
      "(10924, 89)\n",
      "The logloss after feature engineering is 0.4781961466906124 for season 2017\n",
      "The roc-auc after feature engineering is 0.8489167392138836 for season 2017\n",
      "(166160, 89)\n",
      "(10944, 89)\n",
      "The logloss after feature engineering is 0.48287924069551763 for season 2018\n",
      "The roc-auc after feature engineering is 0.8447035185505796 for season 2018\n",
      "(166178, 89)\n",
      "(10926, 89)\n",
      "The logloss after feature engineering is 0.4794829799191899 for season 2019\n",
      "The roc-auc after feature engineering is 0.8472170076706933 for season 2019\n",
      "The mean logloss across the seasons was 0.48050091179759913\n"
     ]
    }
   ],
   "source": [
    "#Using only Logistic Regression\n",
    "#Using both Logistic Regression and Random Forest\n",
    "seasons = [2016,2017,2018, 2019]\n",
    "\n",
    "metric = []\n",
    "\n",
    "for season in seasons:\n",
    "    #Splitting data into train and validation\n",
    "    train_X = data[data['Season'] != season]\n",
    "    val_X = data[data['Season'] == season]\n",
    "    train_y = train_X['win']\n",
    "    val_y = val_X['win']\n",
    "    train_X.drop(['win'], axis = 1, inplace = True)\n",
    "    val_X.drop(['win'], axis = 1, inplace = True)\n",
    "    print(train_X.shape)\n",
    "    print(val_X.shape)\n",
    "    \n",
    "    train_X = train_X[features]\n",
    "    val_X = val_X[features]\n",
    "    from sklearn.preprocessing import MinMaxScaler\n",
    "    scaler = MinMaxScaler()\n",
    "    scaler.fit(train_X)\n",
    "    \n",
    "    train_X =  scaler.transform(train_X)\n",
    "    val_X = scaler.transform(val_X)\n",
    "    \n",
    "    #Fitting the base logistic regression model\n",
    "    from sklearn.linear_model import LogisticRegression\n",
    "    from sklearn.ensemble import RandomForestClassifier\n",
    "    model = LogisticRegression(dual = True, class_weight= 'balanced', max_iter = 100, random_state = 17)\n",
    "    model.fit(train_X, train_y)\n",
    "    \n",
    "    \n",
    "    predictions = model.predict_proba(val_X)\n",
    "   \n",
    "    #Checking logloss score on trained model\n",
    "\n",
    "    from sklearn.metrics import log_loss, roc_auc_score\n",
    "    logloss = log_loss(val_y, predictions)\n",
    "   \n",
    "    \n",
    "    auc = roc_auc_score(val_y, predictions[:,1])\n",
    "    \n",
    "    print(\"The logloss after feature engineering is {} for season {}\".format(logloss, season))\n",
    "    print(\"The roc-auc after feature engineering is {} for season {}\".format(auc, season))\n",
    "    metric.append(logloss)\n",
    "\n",
    "print(f'The mean logloss across the seasons was {np.mean(metric)}')"
   ]
  },
  {
   "cell_type": "code",
   "execution_count": 250,
   "metadata": {},
   "outputs": [
    {
     "name": "stderr",
     "output_type": "stream",
     "text": [
      "/home/fractaluser/anaconda3/lib/python3.6/site-packages/pandas/core/frame.py:3697: SettingWithCopyWarning: \n",
      "A value is trying to be set on a copy of a slice from a DataFrame\n",
      "\n",
      "See the caveats in the documentation: http://pandas.pydata.org/pandas-docs/stable/indexing.html#indexing-view-versus-copy\n",
      "  errors=errors)\n"
     ]
    },
    {
     "name": "stdout",
     "output_type": "stream",
     "text": [
      "(166232, 89)\n",
      "(10872, 89)\n",
      "The logloss after feature engineering is 0.5104774130761209 for season 2016\n",
      "The roc-auc after feature engineering is 0.8365990926053167 for season 2016\n",
      "(166180, 89)"
     ]
    },
    {
     "name": "stderr",
     "output_type": "stream",
     "text": [
      "/home/fractaluser/anaconda3/lib/python3.6/site-packages/pandas/core/frame.py:3697: SettingWithCopyWarning: \n",
      "A value is trying to be set on a copy of a slice from a DataFrame\n",
      "\n",
      "See the caveats in the documentation: http://pandas.pydata.org/pandas-docs/stable/indexing.html#indexing-view-versus-copy\n",
      "  errors=errors)\n"
     ]
    },
    {
     "name": "stdout",
     "output_type": "stream",
     "text": [
      "\n",
      "(10924, 89)\n",
      "The logloss after feature engineering is 0.5121680961895544 for season 2017\n",
      "The roc-auc after feature engineering is 0.8360130664096308 for season 2017\n"
     ]
    },
    {
     "name": "stderr",
     "output_type": "stream",
     "text": [
      "/home/fractaluser/anaconda3/lib/python3.6/site-packages/pandas/core/frame.py:3697: SettingWithCopyWarning: \n",
      "A value is trying to be set on a copy of a slice from a DataFrame\n",
      "\n",
      "See the caveats in the documentation: http://pandas.pydata.org/pandas-docs/stable/indexing.html#indexing-view-versus-copy\n",
      "  errors=errors)\n"
     ]
    },
    {
     "name": "stdout",
     "output_type": "stream",
     "text": [
      "(166160, 89)\n",
      "(10944, 89)\n",
      "The logloss after feature engineering is 0.5143469225768648 for season 2018\n",
      "The roc-auc after feature engineering is 0.8309687736450959 for season 2018\n",
      "(166178, 89)\n",
      "(10926, 89)\n"
     ]
    },
    {
     "name": "stderr",
     "output_type": "stream",
     "text": [
      "/home/fractaluser/anaconda3/lib/python3.6/site-packages/pandas/core/frame.py:3697: SettingWithCopyWarning: \n",
      "A value is trying to be set on a copy of a slice from a DataFrame\n",
      "\n",
      "See the caveats in the documentation: http://pandas.pydata.org/pandas-docs/stable/indexing.html#indexing-view-versus-copy\n",
      "  errors=errors)\n"
     ]
    },
    {
     "name": "stdout",
     "output_type": "stream",
     "text": [
      "The logloss after feature engineering is 0.5123453755784243 for season 2019\n",
      "The roc-auc after feature engineering is 0.8358061113639227 for season 2019\n",
      "The mean logloss across the seasons was 0.5123344518552411\n"
     ]
    }
   ],
   "source": [
    "#Using only Random Forest\n",
    "seasons = [2016,2017,2018, 2019]\n",
    "\n",
    "metric = []\n",
    "\n",
    "for season in seasons:\n",
    "    #Splitting data into train and validation\n",
    "    train_X = data[data['Season'] != season]\n",
    "    val_X = data[data['Season'] == season]\n",
    "    train_y = train_X['win']\n",
    "    val_y = val_X['win']\n",
    "    train_X.drop(['win'], axis = 1, inplace = True)\n",
    "    val_X.drop(['win'], axis = 1, inplace = True)\n",
    "    print(train_X.shape)\n",
    "    print(val_X.shape)\n",
    "    \n",
    "    train_X = train_X[features]\n",
    "    val_X = val_X[features]\n",
    "    from sklearn.preprocessing import MinMaxScaler\n",
    "    scaler = MinMaxScaler()\n",
    "    scaler.fit(train_X)\n",
    "    \n",
    "    train_X =  scaler.transform(train_X)\n",
    "    val_X = scaler.transform(val_X)\n",
    "    \n",
    "    #Fitting the base logistic regression model\n",
    "    from sklearn.linear_model import LogisticRegression\n",
    "    from sklearn.ensemble import RandomForestClassifier\n",
    "    model = RandomForestClassifier(n_estimators= 500, max_depth= 5)\n",
    "    model.fit(train_X, train_y)\n",
    "    \n",
    "    predictions = model.predict_proba(val_X)\n",
    "\n",
    "    #Checking logloss score on trained model\n",
    "\n",
    "    from sklearn.metrics import log_loss, roc_auc_score\n",
    "    logloss = log_loss(val_y, predictions)\n",
    "\n",
    "    \n",
    "    auc = roc_auc_score(val_y, predictions[:,1])\n",
    "\n",
    "    print(\"The logloss after feature engineering is {} for season {}\".format(logloss, season))\n",
    "    print(\"The roc-auc after feature engineering is {} for season {}\".format(auc, season))\n",
    "    metric.append(logloss)\n",
    "\n",
    "print(f'The mean logloss across the seasons was {np.mean(metric)}')"
   ]
  },
  {
   "cell_type": "code",
   "execution_count": 251,
   "metadata": {},
   "outputs": [
    {
     "name": "stderr",
     "output_type": "stream",
     "text": [
      "/home/fractaluser/anaconda3/lib/python3.6/site-packages/pandas/core/frame.py:3697: SettingWithCopyWarning: \n",
      "A value is trying to be set on a copy of a slice from a DataFrame\n",
      "\n",
      "See the caveats in the documentation: http://pandas.pydata.org/pandas-docs/stable/indexing.html#indexing-view-versus-copy\n",
      "  errors=errors)\n"
     ]
    },
    {
     "name": "stdout",
     "output_type": "stream",
     "text": [
      "(166232, 89)\n",
      "(10872, 89)\n",
      "The logloss after feature engineering is 0.4913541975877176 for season 2016\n",
      "The roc-auc after feature engineering is 0.8431889865941553 for season 2016\n"
     ]
    },
    {
     "name": "stderr",
     "output_type": "stream",
     "text": [
      "/home/fractaluser/anaconda3/lib/python3.6/site-packages/pandas/core/frame.py:3697: SettingWithCopyWarning: \n",
      "A value is trying to be set on a copy of a slice from a DataFrame\n",
      "\n",
      "See the caveats in the documentation: http://pandas.pydata.org/pandas-docs/stable/indexing.html#indexing-view-versus-copy\n",
      "  errors=errors)\n"
     ]
    },
    {
     "name": "stdout",
     "output_type": "stream",
     "text": [
      "(166180, 89)\n",
      "(10924, 89)\n",
      "The logloss after feature engineering is 0.4895680663388543 for season 2017\n",
      "The roc-auc after feature engineering is 0.8443325551015832 for season 2017\n"
     ]
    },
    {
     "name": "stderr",
     "output_type": "stream",
     "text": [
      "/home/fractaluser/anaconda3/lib/python3.6/site-packages/pandas/core/frame.py:3697: SettingWithCopyWarning: \n",
      "A value is trying to be set on a copy of a slice from a DataFrame\n",
      "\n",
      "See the caveats in the documentation: http://pandas.pydata.org/pandas-docs/stable/indexing.html#indexing-view-versus-copy\n",
      "  errors=errors)\n"
     ]
    },
    {
     "name": "stdout",
     "output_type": "stream",
     "text": [
      "(166160, 89)\n",
      "(10944, 89)\n",
      "The logloss after feature engineering is 0.4938192443226467 for season 2018\n",
      "The roc-auc after feature engineering is 0.8394518943195128 for season 2018\n"
     ]
    },
    {
     "name": "stderr",
     "output_type": "stream",
     "text": [
      "/home/fractaluser/anaconda3/lib/python3.6/site-packages/pandas/core/frame.py:3697: SettingWithCopyWarning: \n",
      "A value is trying to be set on a copy of a slice from a DataFrame\n",
      "\n",
      "See the caveats in the documentation: http://pandas.pydata.org/pandas-docs/stable/indexing.html#indexing-view-versus-copy\n",
      "  errors=errors)\n"
     ]
    },
    {
     "name": "stdout",
     "output_type": "stream",
     "text": [
      "(166178, 89)\n",
      "(10926, 89)\n",
      "The logloss after feature engineering is 0.49095504930976797 for season 2019\n",
      "The roc-auc after feature engineering is 0.843078722823726 for season 2019\n",
      "The mean logloss across the seasons was 0.4914241393897466\n"
     ]
    }
   ],
   "source": [
    "#Using both logistic Regression and Random Forest\n",
    "seasons = [2016,2017,2018, 2019]\n",
    "\n",
    "metric = []\n",
    "\n",
    "for season in seasons:\n",
    "    #Splitting data into train and validation\n",
    "    train_X = data[data['Season'] != season]\n",
    "    val_X = data[data['Season'] == season]\n",
    "    train_y = train_X['win']\n",
    "    val_y = val_X['win']\n",
    "    train_X.drop(['win'], axis = 1, inplace = True)\n",
    "    val_X.drop(['win'], axis = 1, inplace = True)\n",
    "    print(train_X.shape)\n",
    "    print(val_X.shape)\n",
    "    \n",
    "    train_X = train_X[features]\n",
    "    val_X = val_X[features]\n",
    "    from sklearn.preprocessing import MinMaxScaler\n",
    "    scaler = MinMaxScaler()\n",
    "    scaler.fit(train_X)\n",
    "    \n",
    "    train_X =  scaler.transform(train_X)\n",
    "    val_X = scaler.transform(val_X)\n",
    "    \n",
    "    #Fitting the base logistic regression model\n",
    "    from sklearn.linear_model import LogisticRegression\n",
    "    from sklearn.ensemble import RandomForestClassifier\n",
    "    \n",
    "    model = LogisticRegression(dual = True, class_weight= 'balanced', max_iter = 100, random_state = 17)\n",
    "    model2 = RandomForestClassifier(n_estimators= 300, max_depth= 6)\n",
    "    model.fit(train_X, train_y)\n",
    "    model2.fit(train_X, train_y)\n",
    "    \n",
    "    predictions = model.predict_proba(val_X)\n",
    "    predictions2 = model2.predict_proba(val_X)\n",
    "    #Checking logloss score on trained model\n",
    "    \n",
    "    \n",
    "    from sklearn.metrics import log_loss, roc_auc_score\n",
    "    logloss = log_loss(val_y, predictions)\n",
    "    logloss2 = log_loss(val_y, predictions2)\n",
    "    \n",
    "    auc = roc_auc_score(val_y, predictions[:,1])\n",
    "    auc2 = roc_auc_score(val_y, predictions2[:,1])\n",
    "    print(\"The logloss after feature engineering is {} for season {}\".format(np.mean([logloss, logloss2]), season))\n",
    "    print(\"The roc-auc after feature engineering is {} for season {}\".format(np.mean([auc,auc2]), season))\n",
    "    metric.append(np.mean([logloss, logloss2]))\n",
    "\n",
    "print(f'The mean logloss across the seasons was {np.mean(metric)}')"
   ]
  },
  {
   "cell_type": "code",
   "execution_count": 252,
   "metadata": {},
   "outputs": [
    {
     "data": {
      "text/html": [
       "\n",
       "    <style>\n",
       "    table.eli5-weights tr:hover {\n",
       "        filter: brightness(85%);\n",
       "    }\n",
       "</style>\n",
       "\n",
       "\n",
       "\n",
       "    \n",
       "\n",
       "    \n",
       "\n",
       "    \n",
       "\n",
       "    \n",
       "\n",
       "    \n",
       "\n",
       "    \n",
       "\n",
       "\n",
       "    \n",
       "\n",
       "    \n",
       "\n",
       "    \n",
       "\n",
       "    \n",
       "\n",
       "    \n",
       "\n",
       "    \n",
       "\n",
       "\n",
       "    \n",
       "\n",
       "    \n",
       "\n",
       "    \n",
       "\n",
       "    \n",
       "\n",
       "    \n",
       "        <table class=\"eli5-weights eli5-feature-importances\" style=\"border-collapse: collapse; border: none; margin-top: 0em; table-layout: auto;\">\n",
       "    <thead>\n",
       "    <tr style=\"border: none;\">\n",
       "        <th style=\"padding: 0 1em 0 0.5em; text-align: right; border: none;\">Weight</th>\n",
       "        <th style=\"padding: 0 0.5em 0 0.5em; text-align: left; border: none;\">Feature</th>\n",
       "    </tr>\n",
       "    </thead>\n",
       "    <tbody>\n",
       "    \n",
       "        <tr style=\"background-color: hsl(120, 100.00%, 80.00%); border: none;\">\n",
       "            <td style=\"padding: 0 1em 0 0.5em; text-align: right; border: none;\">\n",
       "                0.0283\n",
       "                \n",
       "                    &plusmn; 0.0016\n",
       "                \n",
       "            </td>\n",
       "            <td style=\"padding: 0 0.5em 0 0.5em; text-align: left; border: none;\">\n",
       "                T2AdjustedEM\n",
       "            </td>\n",
       "        </tr>\n",
       "    \n",
       "        <tr style=\"background-color: hsl(120, 100.00%, 81.18%); border: none;\">\n",
       "            <td style=\"padding: 0 1em 0 0.5em; text-align: right; border: none;\">\n",
       "                0.0259\n",
       "                \n",
       "                    &plusmn; 0.0047\n",
       "                \n",
       "            </td>\n",
       "            <td style=\"padding: 0 0.5em 0 0.5em; text-align: left; border: none;\">\n",
       "                T1AdjustedEM\n",
       "            </td>\n",
       "        </tr>\n",
       "    \n",
       "        <tr style=\"background-color: hsl(120, 100.00%, 85.22%); border: none;\">\n",
       "            <td style=\"padding: 0 1em 0 0.5em; text-align: right; border: none;\">\n",
       "                0.0184\n",
       "                \n",
       "                    &plusmn; 0.0061\n",
       "                \n",
       "            </td>\n",
       "            <td style=\"padding: 0 0.5em 0 0.5em; text-align: left; border: none;\">\n",
       "                T1AdOfE\n",
       "            </td>\n",
       "        </tr>\n",
       "    \n",
       "        <tr style=\"background-color: hsl(120, 100.00%, 85.42%); border: none;\">\n",
       "            <td style=\"padding: 0 1em 0 0.5em; text-align: right; border: none;\">\n",
       "                0.0180\n",
       "                \n",
       "                    &plusmn; 0.0037\n",
       "                \n",
       "            </td>\n",
       "            <td style=\"padding: 0 0.5em 0 0.5em; text-align: left; border: none;\">\n",
       "                T2AdOfE\n",
       "            </td>\n",
       "        </tr>\n",
       "    \n",
       "        <tr style=\"background-color: hsl(120, 100.00%, 87.69%); border: none;\">\n",
       "            <td style=\"padding: 0 1em 0 0.5em; text-align: right; border: none;\">\n",
       "                0.0141\n",
       "                \n",
       "                    &plusmn; 0.0034\n",
       "                \n",
       "            </td>\n",
       "            <td style=\"padding: 0 0.5em 0 0.5em; text-align: left; border: none;\">\n",
       "                T1AdDeE\n",
       "            </td>\n",
       "        </tr>\n",
       "    \n",
       "        <tr style=\"background-color: hsl(120, 100.00%, 88.00%); border: none;\">\n",
       "            <td style=\"padding: 0 1em 0 0.5em; text-align: right; border: none;\">\n",
       "                0.0136\n",
       "                \n",
       "                    &plusmn; 0.0042\n",
       "                \n",
       "            </td>\n",
       "            <td style=\"padding: 0 0.5em 0 0.5em; text-align: left; border: none;\">\n",
       "                T2AdDeE\n",
       "            </td>\n",
       "        </tr>\n",
       "    \n",
       "        <tr style=\"background-color: hsl(120, 100.00%, 92.04%); border: none;\">\n",
       "            <td style=\"padding: 0 1em 0 0.5em; text-align: right; border: none;\">\n",
       "                0.0076\n",
       "                \n",
       "                    &plusmn; 0.0031\n",
       "                \n",
       "            </td>\n",
       "            <td style=\"padding: 0 0.5em 0 0.5em; text-align: left; border: none;\">\n",
       "                T1Luck\n",
       "            </td>\n",
       "        </tr>\n",
       "    \n",
       "        <tr style=\"background-color: hsl(120, 100.00%, 92.32%); border: none;\">\n",
       "            <td style=\"padding: 0 1em 0 0.5em; text-align: right; border: none;\">\n",
       "                0.0072\n",
       "                \n",
       "                    &plusmn; 0.0031\n",
       "                \n",
       "            </td>\n",
       "            <td style=\"padding: 0 0.5em 0 0.5em; text-align: left; border: none;\">\n",
       "                T2Luck\n",
       "            </td>\n",
       "        </tr>\n",
       "    \n",
       "        <tr style=\"background-color: hsl(120, 100.00%, 96.39%); border: none;\">\n",
       "            <td style=\"padding: 0 1em 0 0.5em; text-align: right; border: none;\">\n",
       "                0.0025\n",
       "                \n",
       "                    &plusmn; 0.0032\n",
       "                \n",
       "            </td>\n",
       "            <td style=\"padding: 0 0.5em 0 0.5em; text-align: left; border: none;\">\n",
       "                T2Rank\n",
       "            </td>\n",
       "        </tr>\n",
       "    \n",
       "        <tr style=\"background-color: hsl(120, 100.00%, 96.91%); border: none;\">\n",
       "            <td style=\"padding: 0 1em 0 0.5em; text-align: right; border: none;\">\n",
       "                0.0020\n",
       "                \n",
       "                    &plusmn; 0.0016\n",
       "                \n",
       "            </td>\n",
       "            <td style=\"padding: 0 0.5em 0 0.5em; text-align: left; border: none;\">\n",
       "                T1Rank\n",
       "            </td>\n",
       "        </tr>\n",
       "    \n",
       "        <tr style=\"background-color: hsl(120, 100.00%, 96.91%); border: none;\">\n",
       "            <td style=\"padding: 0 1em 0 0.5em; text-align: right; border: none;\">\n",
       "                0.0020\n",
       "                \n",
       "                    &plusmn; 0.0025\n",
       "                \n",
       "            </td>\n",
       "            <td style=\"padding: 0 0.5em 0 0.5em; text-align: left; border: none;\">\n",
       "                T1Conf\n",
       "            </td>\n",
       "        </tr>\n",
       "    \n",
       "        <tr style=\"background-color: hsl(120, 100.00%, 97.42%); border: none;\">\n",
       "            <td style=\"padding: 0 1em 0 0.5em; text-align: right; border: none;\">\n",
       "                0.0015\n",
       "                \n",
       "                    &plusmn; 0.0011\n",
       "                \n",
       "            </td>\n",
       "            <td style=\"padding: 0 0.5em 0 0.5em; text-align: left; border: none;\">\n",
       "                T2AdDeER\n",
       "            </td>\n",
       "        </tr>\n",
       "    \n",
       "        <tr style=\"background-color: hsl(120, 100.00%, 97.46%); border: none;\">\n",
       "            <td style=\"padding: 0 1em 0 0.5em; text-align: right; border: none;\">\n",
       "                0.0015\n",
       "                \n",
       "                    &plusmn; 0.0038\n",
       "                \n",
       "            </td>\n",
       "            <td style=\"padding: 0 0.5em 0 0.5em; text-align: left; border: none;\">\n",
       "                T2Conf\n",
       "            </td>\n",
       "        </tr>\n",
       "    \n",
       "        <tr style=\"background-color: hsl(120, 100.00%, 98.37%); border: none;\">\n",
       "            <td style=\"padding: 0 1em 0 0.5em; text-align: right; border: none;\">\n",
       "                0.0008\n",
       "                \n",
       "                    &plusmn; 0.0001\n",
       "                \n",
       "            </td>\n",
       "            <td style=\"padding: 0 0.5em 0 0.5em; text-align: left; border: none;\">\n",
       "                T1AdSoSR\n",
       "            </td>\n",
       "        </tr>\n",
       "    \n",
       "        <tr style=\"background-color: hsl(120, 100.00%, 98.51%); border: none;\">\n",
       "            <td style=\"padding: 0 1em 0 0.5em; text-align: right; border: none;\">\n",
       "                0.0007\n",
       "                \n",
       "                    &plusmn; 0.0004\n",
       "                \n",
       "            </td>\n",
       "            <td style=\"padding: 0 0.5em 0 0.5em; text-align: left; border: none;\">\n",
       "                T2AdSoS\n",
       "            </td>\n",
       "        </tr>\n",
       "    \n",
       "        <tr style=\"background-color: hsl(120, 100.00%, 98.67%); border: none;\">\n",
       "            <td style=\"padding: 0 1em 0 0.5em; text-align: right; border: none;\">\n",
       "                0.0006\n",
       "                \n",
       "                    &plusmn; 0.0003\n",
       "                \n",
       "            </td>\n",
       "            <td style=\"padding: 0 0.5em 0 0.5em; text-align: left; border: none;\">\n",
       "                T2AdTempo\n",
       "            </td>\n",
       "        </tr>\n",
       "    \n",
       "        <tr style=\"background-color: hsl(120, 100.00%, 98.70%); border: none;\">\n",
       "            <td style=\"padding: 0 1em 0 0.5em; text-align: right; border: none;\">\n",
       "                0.0006\n",
       "                \n",
       "                    &plusmn; 0.0008\n",
       "                \n",
       "            </td>\n",
       "            <td style=\"padding: 0 0.5em 0 0.5em; text-align: left; border: none;\">\n",
       "                T1AdOfER\n",
       "            </td>\n",
       "        </tr>\n",
       "    \n",
       "        <tr style=\"background-color: hsl(120, 100.00%, 98.79%); border: none;\">\n",
       "            <td style=\"padding: 0 1em 0 0.5em; text-align: right; border: none;\">\n",
       "                0.0005\n",
       "                \n",
       "                    &plusmn; 0.0006\n",
       "                \n",
       "            </td>\n",
       "            <td style=\"padding: 0 0.5em 0 0.5em; text-align: left; border: none;\">\n",
       "                T1AdTempoR\n",
       "            </td>\n",
       "        </tr>\n",
       "    \n",
       "        <tr style=\"background-color: hsl(120, 100.00%, 98.82%); border: none;\">\n",
       "            <td style=\"padding: 0 1em 0 0.5em; text-align: right; border: none;\">\n",
       "                0.0005\n",
       "                \n",
       "                    &plusmn; 0.0015\n",
       "                \n",
       "            </td>\n",
       "            <td style=\"padding: 0 0.5em 0 0.5em; text-align: left; border: none;\">\n",
       "                T2AdOfER\n",
       "            </td>\n",
       "        </tr>\n",
       "    \n",
       "        <tr style=\"background-color: hsl(120, 100.00%, 98.82%); border: none;\">\n",
       "            <td style=\"padding: 0 1em 0 0.5em; text-align: right; border: none;\">\n",
       "                0.0005\n",
       "                \n",
       "                    &plusmn; 0.0003\n",
       "                \n",
       "            </td>\n",
       "            <td style=\"padding: 0 0.5em 0 0.5em; text-align: left; border: none;\">\n",
       "                T1AdTempo\n",
       "            </td>\n",
       "        </tr>\n",
       "    \n",
       "    \n",
       "        \n",
       "            <tr style=\"background-color: hsl(120, 100.00%, 98.82%); border: none;\">\n",
       "                <td colspan=\"2\" style=\"padding: 0 0.5em 0 0.5em; text-align: center; border: none; white-space: nowrap;\">\n",
       "                    <i>&hellip; 9 more &hellip;</i>\n",
       "                </td>\n",
       "            </tr>\n",
       "        \n",
       "    \n",
       "    </tbody>\n",
       "</table>\n",
       "    \n",
       "\n",
       "    \n",
       "\n",
       "\n",
       "    \n",
       "\n",
       "    \n",
       "\n",
       "    \n",
       "\n",
       "    \n",
       "\n",
       "    \n",
       "\n",
       "    \n",
       "\n",
       "\n",
       "\n"
      ],
      "text/plain": [
       "<IPython.core.display.HTML object>"
      ]
     },
     "execution_count": 252,
     "metadata": {},
     "output_type": "execute_result"
    }
   ],
   "source": [
    "#Feature Importance by Logistic Regression\n",
    "import eli5\n",
    "from eli5.sklearn import PermutationImportance\n",
    "perm = PermutationImportance(model, random_state=17).fit(val_X, val_y)\n",
    "eli5.show_weights(perm, feature_names = features)"
   ]
  },
  {
   "cell_type": "code",
   "execution_count": 253,
   "metadata": {},
   "outputs": [
    {
     "data": {
      "text/html": [
       "\n",
       "    <style>\n",
       "    table.eli5-weights tr:hover {\n",
       "        filter: brightness(85%);\n",
       "    }\n",
       "</style>\n",
       "\n",
       "\n",
       "\n",
       "    \n",
       "\n",
       "    \n",
       "\n",
       "    \n",
       "\n",
       "    \n",
       "\n",
       "    \n",
       "\n",
       "    \n",
       "\n",
       "\n",
       "    \n",
       "\n",
       "    \n",
       "\n",
       "    \n",
       "\n",
       "    \n",
       "\n",
       "    \n",
       "\n",
       "    \n",
       "\n",
       "\n",
       "    \n",
       "\n",
       "    \n",
       "\n",
       "    \n",
       "\n",
       "    \n",
       "\n",
       "    \n",
       "        <table class=\"eli5-weights eli5-feature-importances\" style=\"border-collapse: collapse; border: none; margin-top: 0em; table-layout: auto;\">\n",
       "    <thead>\n",
       "    <tr style=\"border: none;\">\n",
       "        <th style=\"padding: 0 1em 0 0.5em; text-align: right; border: none;\">Weight</th>\n",
       "        <th style=\"padding: 0 0.5em 0 0.5em; text-align: left; border: none;\">Feature</th>\n",
       "    </tr>\n",
       "    </thead>\n",
       "    <tbody>\n",
       "    \n",
       "        <tr style=\"background-color: hsl(120, 100.00%, 80.00%); border: none;\">\n",
       "            <td style=\"padding: 0 1em 0 0.5em; text-align: right; border: none;\">\n",
       "                0.0279\n",
       "                \n",
       "                    &plusmn; 0.0047\n",
       "                \n",
       "            </td>\n",
       "            <td style=\"padding: 0 0.5em 0 0.5em; text-align: left; border: none;\">\n",
       "                T1AdjustedEM\n",
       "            </td>\n",
       "        </tr>\n",
       "    \n",
       "        <tr style=\"background-color: hsl(120, 100.00%, 81.33%); border: none;\">\n",
       "            <td style=\"padding: 0 1em 0 0.5em; text-align: right; border: none;\">\n",
       "                0.0253\n",
       "                \n",
       "                    &plusmn; 0.0019\n",
       "                \n",
       "            </td>\n",
       "            <td style=\"padding: 0 0.5em 0 0.5em; text-align: left; border: none;\">\n",
       "                T2AdjustedEM\n",
       "            </td>\n",
       "        </tr>\n",
       "    \n",
       "        <tr style=\"background-color: hsl(120, 100.00%, 81.63%); border: none;\">\n",
       "            <td style=\"padding: 0 1em 0 0.5em; text-align: right; border: none;\">\n",
       "                0.0247\n",
       "                \n",
       "                    &plusmn; 0.0047\n",
       "                \n",
       "            </td>\n",
       "            <td style=\"padding: 0 0.5em 0 0.5em; text-align: left; border: none;\">\n",
       "                T2Rank\n",
       "            </td>\n",
       "        </tr>\n",
       "    \n",
       "        <tr style=\"background-color: hsl(120, 100.00%, 84.19%); border: none;\">\n",
       "            <td style=\"padding: 0 1em 0 0.5em; text-align: right; border: none;\">\n",
       "                0.0199\n",
       "                \n",
       "                    &plusmn; 0.0064\n",
       "                \n",
       "            </td>\n",
       "            <td style=\"padding: 0 0.5em 0 0.5em; text-align: left; border: none;\">\n",
       "                T1Rank\n",
       "            </td>\n",
       "        </tr>\n",
       "    \n",
       "        <tr style=\"background-color: hsl(120, 100.00%, 98.25%); border: none;\">\n",
       "            <td style=\"padding: 0 1em 0 0.5em; text-align: right; border: none;\">\n",
       "                0.0009\n",
       "                \n",
       "                    &plusmn; 0.0030\n",
       "                \n",
       "            </td>\n",
       "            <td style=\"padding: 0 0.5em 0 0.5em; text-align: left; border: none;\">\n",
       "                T2AdOfER\n",
       "            </td>\n",
       "        </tr>\n",
       "    \n",
       "        <tr style=\"background-color: hsl(120, 100.00%, 98.30%); border: none;\">\n",
       "            <td style=\"padding: 0 1em 0 0.5em; text-align: right; border: none;\">\n",
       "                0.0008\n",
       "                \n",
       "                    &plusmn; 0.0016\n",
       "                \n",
       "            </td>\n",
       "            <td style=\"padding: 0 0.5em 0 0.5em; text-align: left; border: none;\">\n",
       "                T2Seed\n",
       "            </td>\n",
       "        </tr>\n",
       "    \n",
       "        <tr style=\"background-color: hsl(120, 100.00%, 98.35%); border: none;\">\n",
       "            <td style=\"padding: 0 1em 0 0.5em; text-align: right; border: none;\">\n",
       "                0.0008\n",
       "                \n",
       "                    &plusmn; 0.0024\n",
       "                \n",
       "            </td>\n",
       "            <td style=\"padding: 0 0.5em 0 0.5em; text-align: left; border: none;\">\n",
       "                T1AdOfER\n",
       "            </td>\n",
       "        </tr>\n",
       "    \n",
       "        <tr style=\"background-color: hsl(120, 100.00%, 98.90%); border: none;\">\n",
       "            <td style=\"padding: 0 1em 0 0.5em; text-align: right; border: none;\">\n",
       "                0.0004\n",
       "                \n",
       "                    &plusmn; 0.0016\n",
       "                \n",
       "            </td>\n",
       "            <td style=\"padding: 0 0.5em 0 0.5em; text-align: left; border: none;\">\n",
       "                Seed_Diff\n",
       "            </td>\n",
       "        </tr>\n",
       "    \n",
       "        <tr style=\"background-color: hsl(120, 100.00%, 99.00%); border: none;\">\n",
       "            <td style=\"padding: 0 1em 0 0.5em; text-align: right; border: none;\">\n",
       "                0.0004\n",
       "                \n",
       "                    &plusmn; 0.0008\n",
       "                \n",
       "            </td>\n",
       "            <td style=\"padding: 0 0.5em 0 0.5em; text-align: left; border: none;\">\n",
       "                T2Luck\n",
       "            </td>\n",
       "        </tr>\n",
       "    \n",
       "        <tr style=\"background-color: hsl(120, 100.00%, 99.04%); border: none;\">\n",
       "            <td style=\"padding: 0 1em 0 0.5em; text-align: right; border: none;\">\n",
       "                0.0004\n",
       "                \n",
       "                    &plusmn; 0.0005\n",
       "                \n",
       "            </td>\n",
       "            <td style=\"padding: 0 0.5em 0 0.5em; text-align: left; border: none;\">\n",
       "                T2Conf\n",
       "            </td>\n",
       "        </tr>\n",
       "    \n",
       "        <tr style=\"background-color: hsl(120, 100.00%, 99.54%); border: none;\">\n",
       "            <td style=\"padding: 0 1em 0 0.5em; text-align: right; border: none;\">\n",
       "                0.0001\n",
       "                \n",
       "                    &plusmn; 0.0008\n",
       "                \n",
       "            </td>\n",
       "            <td style=\"padding: 0 0.5em 0 0.5em; text-align: left; border: none;\">\n",
       "                T1Luck\n",
       "            </td>\n",
       "        </tr>\n",
       "    \n",
       "        <tr style=\"background-color: hsl(120, 100.00%, 99.69%); border: none;\">\n",
       "            <td style=\"padding: 0 1em 0 0.5em; text-align: right; border: none;\">\n",
       "                0.0001\n",
       "                \n",
       "                    &plusmn; 0.0001\n",
       "                \n",
       "            </td>\n",
       "            <td style=\"padding: 0 0.5em 0 0.5em; text-align: left; border: none;\">\n",
       "                T1AdTempoR\n",
       "            </td>\n",
       "        </tr>\n",
       "    \n",
       "        <tr style=\"background-color: hsl(120, 100.00%, 99.74%); border: none;\">\n",
       "            <td style=\"padding: 0 1em 0 0.5em; text-align: right; border: none;\">\n",
       "                0.0001\n",
       "                \n",
       "                    &plusmn; 0.0009\n",
       "                \n",
       "            </td>\n",
       "            <td style=\"padding: 0 0.5em 0 0.5em; text-align: left; border: none;\">\n",
       "                T2LuckRank\n",
       "            </td>\n",
       "        </tr>\n",
       "    \n",
       "        <tr style=\"background-color: hsl(120, 100.00%, 99.88%); border: none;\">\n",
       "            <td style=\"padding: 0 1em 0 0.5em; text-align: right; border: none;\">\n",
       "                0.0000\n",
       "                \n",
       "                    &plusmn; 0.0006\n",
       "                \n",
       "            </td>\n",
       "            <td style=\"padding: 0 0.5em 0 0.5em; text-align: left; border: none;\">\n",
       "                T2AdSoS\n",
       "            </td>\n",
       "        </tr>\n",
       "    \n",
       "        <tr style=\"background-color: hsl(0, 100.00%, 100.00%); border: none;\">\n",
       "            <td style=\"padding: 0 1em 0 0.5em; text-align: right; border: none;\">\n",
       "                0\n",
       "                \n",
       "                    &plusmn; 0.0000\n",
       "                \n",
       "            </td>\n",
       "            <td style=\"padding: 0 0.5em 0 0.5em; text-align: left; border: none;\">\n",
       "                T1AdTempo\n",
       "            </td>\n",
       "        </tr>\n",
       "    \n",
       "        <tr style=\"background-color: hsl(0, 100.00%, 100.00%); border: none;\">\n",
       "            <td style=\"padding: 0 1em 0 0.5em; text-align: right; border: none;\">\n",
       "                0\n",
       "                \n",
       "                    &plusmn; 0.0000\n",
       "                \n",
       "            </td>\n",
       "            <td style=\"padding: 0 0.5em 0 0.5em; text-align: left; border: none;\">\n",
       "                T2AdTempoR\n",
       "            </td>\n",
       "        </tr>\n",
       "    \n",
       "        <tr style=\"background-color: hsl(0, 100.00%, 99.74%); border: none;\">\n",
       "            <td style=\"padding: 0 1em 0 0.5em; text-align: right; border: none;\">\n",
       "                -0.0001\n",
       "                \n",
       "                    &plusmn; 0.0014\n",
       "                \n",
       "            </td>\n",
       "            <td style=\"padding: 0 0.5em 0 0.5em; text-align: left; border: none;\">\n",
       "                T2AdOfE\n",
       "            </td>\n",
       "        </tr>\n",
       "    \n",
       "        <tr style=\"background-color: hsl(0, 100.00%, 99.69%); border: none;\">\n",
       "            <td style=\"padding: 0 1em 0 0.5em; text-align: right; border: none;\">\n",
       "                -0.0001\n",
       "                \n",
       "                    &plusmn; 0.0001\n",
       "                \n",
       "            </td>\n",
       "            <td style=\"padding: 0 0.5em 0 0.5em; text-align: left; border: none;\">\n",
       "                T2AdTempo\n",
       "            </td>\n",
       "        </tr>\n",
       "    \n",
       "        <tr style=\"background-color: hsl(0, 100.00%, 99.49%); border: none;\">\n",
       "            <td style=\"padding: 0 1em 0 0.5em; text-align: right; border: none;\">\n",
       "                -0.0001\n",
       "                \n",
       "                    &plusmn; 0.0022\n",
       "                \n",
       "            </td>\n",
       "            <td style=\"padding: 0 0.5em 0 0.5em; text-align: left; border: none;\">\n",
       "                T1Seed\n",
       "            </td>\n",
       "        </tr>\n",
       "    \n",
       "        <tr style=\"background-color: hsl(0, 100.00%, 99.45%); border: none;\">\n",
       "            <td style=\"padding: 0 1em 0 0.5em; text-align: right; border: none;\">\n",
       "                -0.0002\n",
       "                \n",
       "                    &plusmn; 0.0008\n",
       "                \n",
       "            </td>\n",
       "            <td style=\"padding: 0 0.5em 0 0.5em; text-align: left; border: none;\">\n",
       "                T1AdSoSR\n",
       "            </td>\n",
       "        </tr>\n",
       "    \n",
       "    \n",
       "        \n",
       "            <tr style=\"background-color: hsl(0, 100.00%, 99.45%); border: none;\">\n",
       "                <td colspan=\"2\" style=\"padding: 0 0.5em 0 0.5em; text-align: center; border: none; white-space: nowrap;\">\n",
       "                    <i>&hellip; 9 more &hellip;</i>\n",
       "                </td>\n",
       "            </tr>\n",
       "        \n",
       "    \n",
       "    </tbody>\n",
       "</table>\n",
       "    \n",
       "\n",
       "    \n",
       "\n",
       "\n",
       "    \n",
       "\n",
       "    \n",
       "\n",
       "    \n",
       "\n",
       "    \n",
       "\n",
       "    \n",
       "\n",
       "    \n",
       "\n",
       "\n",
       "\n"
      ],
      "text/plain": [
       "<IPython.core.display.HTML object>"
      ]
     },
     "execution_count": 253,
     "metadata": {},
     "output_type": "execute_result"
    }
   ],
   "source": [
    "#Feature Importance by Random Forest\n",
    "import eli5\n",
    "from eli5.sklearn import PermutationImportance\n",
    "perm = PermutationImportance(model2, random_state=17).fit(val_X, val_y)\n",
    "eli5.show_weights(perm, feature_names = features)"
   ]
  },
  {
   "cell_type": "code",
   "execution_count": 213,
   "metadata": {},
   "outputs": [
    {
     "data": {
      "text/plain": [
       "104"
      ]
     },
     "execution_count": 213,
     "metadata": {},
     "output_type": "execute_result"
    }
   ],
   "source": [
    "gc.collect()"
   ]
  }
 ],
 "metadata": {
  "kernelspec": {
   "display_name": "Python 3",
   "language": "python",
   "name": "python3"
  },
  "language_info": {
   "codemirror_mode": {
    "name": "ipython",
    "version": 3
   },
   "file_extension": ".py",
   "mimetype": "text/x-python",
   "name": "python",
   "nbconvert_exporter": "python",
   "pygments_lexer": "ipython3",
   "version": "3.6.5"
  }
 },
 "nbformat": 4,
 "nbformat_minor": 2
}
